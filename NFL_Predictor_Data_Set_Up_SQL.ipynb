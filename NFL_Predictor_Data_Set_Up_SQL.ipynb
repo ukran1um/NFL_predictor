{
 "cells": [
  {
   "cell_type": "code",
   "execution_count": 1,
   "metadata": {
    "collapsed": false
   },
   "outputs": [],
   "source": [
    "\n",
    "from sqlalchemy import create_engine\n",
    "import pandas as pd\n",
    "engine = create_engine('postgresql://@localhost:5432/nfl')\n",
    "pd.read_sql(\"SELECT * FROM information_schema.tables LIMIT 3;\", engine)\n",
    "\n",
    "\n",
    "import numpy as np"
   ]
  },
  {
   "cell_type": "code",
   "execution_count": 2,
   "metadata": {
    "collapsed": false
   },
   "outputs": [
    {
     "name": "stderr",
     "output_type": "stream",
     "text": [
      "/Users/egorkharakozov/anaconda/lib/python2.7/site-packages/IPython/config.py:13: ShimWarning: The `IPython.config` package has been deprecated. You should import from traitlets.config instead.\n",
      "  \"You should import from traitlets.config instead.\", ShimWarning)\n",
      "/Users/egorkharakozov/anaconda/lib/python2.7/site-packages/IPython/utils/traitlets.py:5: UserWarning: IPython.utils.traitlets has moved to a top-level traitlets package.\n",
      "  warn(\"IPython.utils.traitlets has moved to a top-level traitlets package.\")\n"
     ]
    }
   ],
   "source": [
    "%load_ext sql"
   ]
  },
  {
   "cell_type": "code",
   "execution_count": 3,
   "metadata": {
    "collapsed": false
   },
   "outputs": [
    {
     "data": {
      "text/plain": [
       "u'Connected: @nfl'"
      ]
     },
     "execution_count": 3,
     "metadata": {},
     "output_type": "execute_result"
    }
   ],
   "source": [
    "%sql postgresql://@localhost:5432/nfl"
   ]
  },
  {
   "cell_type": "code",
   "execution_count": 4,
   "metadata": {
    "collapsed": false
   },
   "outputs": [
    {
     "data": {
      "text/plain": [
       "u'/Users/egorkharakozov/DSI-projects/CapstoneProject/Part2'"
      ]
     },
     "execution_count": 4,
     "metadata": {},
     "output_type": "execute_result"
    }
   ],
   "source": [
    "pwd"
   ]
  },
  {
   "cell_type": "code",
   "execution_count": 5,
   "metadata": {
    "collapsed": false
   },
   "outputs": [
    {
     "name": "stdout",
     "output_type": "stream",
     "text": [
      "\u001b[31mBLOCK.csv\u001b[m\u001b[m*    \u001b[31mGAME.csv\u001b[m\u001b[m*     \u001b[31mOLINE.csv\u001b[m\u001b[m*    \u001b[31mPUNT.csv\u001b[m\u001b[m*     \u001b[31mTD.csv\u001b[m\u001b[m*\r\n",
      "\u001b[31mCONV.csv\u001b[m\u001b[m*     \u001b[31mINJURY.csv\u001b[m\u001b[m*   \u001b[31mPASS.csv\u001b[m\u001b[m*     \u001b[31mREDZONE.csv\u001b[m\u001b[m*  \u001b[31mTEAM.csv\u001b[m\u001b[m*\r\n",
      "\u001b[31mDEFENSE.csv\u001b[m\u001b[m*  \u001b[31mINTERCPT.csv\u001b[m\u001b[m* \u001b[31mPBP.csv\u001b[m\u001b[m*      \u001b[31mRUSH.csv\u001b[m\u001b[m*\r\n",
      "\u001b[31mDRIVE.csv\u001b[m\u001b[m*    \u001b[31mKICKER.csv\u001b[m\u001b[m*   \u001b[31mPENALTY.csv\u001b[m\u001b[m*  \u001b[31mSACK.csv\u001b[m\u001b[m*\r\n",
      "\u001b[31mFGXP.csv\u001b[m\u001b[m*     \u001b[31mKOFF.csv\u001b[m\u001b[m*     \u001b[31mPLAY.csv\u001b[m\u001b[m*     \u001b[31mSAFETY.csv\u001b[m\u001b[m*\r\n",
      "\u001b[31mFUMBLE.csv\u001b[m\u001b[m*   \u001b[31mOFFENSE.csv\u001b[m\u001b[m*  \u001b[31mPLAYER.csv\u001b[m\u001b[m*   \u001b[31mTACKLE.csv\u001b[m\u001b[m*\r\n"
     ]
    }
   ],
   "source": [
    "ls ../../../ProjectData/NFL/nfl_00-15/csv/"
   ]
  },
  {
   "cell_type": "code",
   "execution_count": 6,
   "metadata": {
    "collapsed": true
   },
   "outputs": [],
   "source": [
    "import re"
   ]
  },
  {
   "cell_type": "code",
   "execution_count": 7,
   "metadata": {
    "collapsed": false
   },
   "outputs": [
    {
     "data": {
      "text/plain": [
       "['BLOCK',\n",
       " 'CONV',\n",
       " 'DEFENSE',\n",
       " 'DRIVE',\n",
       " 'FGXP',\n",
       " 'FUMBLE',\n",
       " 'GAME',\n",
       " 'INJURY',\n",
       " 'INTERCPT',\n",
       " 'KICKER',\n",
       " 'KOFF',\n",
       " 'OFFENSE',\n",
       " 'OLINE',\n",
       " 'PASS',\n",
       " 'PBP',\n",
       " 'PENALTY',\n",
       " 'PLAY',\n",
       " 'PLAYER',\n",
       " 'PUNT',\n",
       " 'REDZONE',\n",
       " 'RUSH',\n",
       " 'SACK',\n",
       " 'SAFETY',\n",
       " 'TACKLE',\n",
       " 'TD',\n",
       " 'TEAM']"
      ]
     },
     "execution_count": 7,
     "metadata": {},
     "output_type": "execute_result"
    }
   ],
   "source": [
    "import commands\n",
    "import re\n",
    "file_names = \"\".join(commands.getstatusoutput(\n",
    "    'ls ../../../ProjectData/NFL/nfl_00-15/csv/')[1]).replace(\".csv\", \"\").split(\"\\n\")\n",
    "file_names"
   ]
  },
  {
   "cell_type": "code",
   "execution_count": 8,
   "metadata": {
    "collapsed": false
   },
   "outputs": [],
   "source": [
    "def load_to_sql(name):\n",
    "    df = pd.read_csv('../../../ProjectData/NFL/nfl_00-15/csv/{}.csv'.format(name), \n",
    "                     encoding='latin1')\n",
    "    df.to_sql(name, engine, flavor='postgres', if_exists='replace')\n",
    "    print \"done\", name"
   ]
  },
  {
   "cell_type": "code",
   "execution_count": 147,
   "metadata": {
    "collapsed": false,
    "scrolled": false
   },
   "outputs": [
    {
     "name": "stdout",
     "output_type": "stream",
     "text": [
      "done block\n",
      "done conv\n",
      "done defense\n",
      "done drive\n",
      "done fgxp\n",
      "done fumble\n",
      "done game\n",
      "done injury\n",
      "done intercpt\n",
      "done kicker\n",
      "done koff\n",
      "done offense\n",
      "done oline\n",
      "done pass\n",
      "done pbp\n",
      "done penalty\n",
      "done play\n",
      "done player\n",
      "done punt\n",
      "done redzone\n",
      "done rush\n",
      "done sack\n",
      "done safety\n",
      "done tackle\n",
      "done td\n",
      "done team\n"
     ]
    }
   ],
   "source": [
    "for name in file_names:\n",
    "    load_to_sql(name.lower())"
   ]
  },
  {
   "cell_type": "code",
   "execution_count": 23,
   "metadata": {
    "collapsed": false,
    "scrolled": false
   },
   "outputs": [],
   "source": [
    "###'2: player level avg stats for past few games vs all opps\n",
    "\n",
    "pcols = [\"pa\",\"pc\",\"py\",\"ints\", \"tdp\",\"fuml\", \"ra\", \"sra\", \"ry\", \"tdr\", \"trg\", \"rec\", \"recy\", \"tdrec\", \"snp\"]\n",
    "paverages = [1,2,3,4,5,8,12,16]\n",
    "#sql_printer_p(pcols, paverages)\n",
    "\n",
    "def sql_printer_p(statlist, numlist):\n",
    "    string = \"\"\"\n",
    "\n",
    "\"\"\"\n",
    "    for word in statlist:\n",
    "        temp = \"\"\n",
    "        for n in numlist:\n",
    "            temp+= \"\"\"\\\n",
    "avg(case when o.{} is null then 0 else o.{} end) over(partition by o.player order by o.gid asc rows {} preceding)\\\n",
    "as avg_p_vs_all_{},\\n\"\"\".format(word, word, n-1, word +str(n))\n",
    "\n",
    "            #avg(case when r.{} is null then 0 else r.{} end) \n",
    "\n",
    "        string +=temp\n",
    "\n",
    "    return  string\n",
    "    \n",
    "#sql_printer_p(pcols, paverages)\n"
   ]
  },
  {
   "cell_type": "code",
   "execution_count": 24,
   "metadata": {
    "collapsed": false
   },
   "outputs": [],
   "source": [
    "#'3: player level redzone avg stats averages vs all opps'\n",
    "\n",
    "rzcols = [\"pa\",\"pc\",\"py\",\"ints\",\"ra\", \"sra\", \"ry\", \"trg\", \"rec\", \"recy\"] #stats to pull from rz table\n",
    "rzaverages = [1, 2,3,4,5,9,12,16]   #number of games for running average\n",
    "#sql_printer_rz(rzcols, rzaverages)\n",
    "\n",
    "def sql_printer_rz(statlist, numlist):\n",
    "    string = \"\"\"\n",
    "\n",
    "\"\"\"\n",
    "    for word in statlist:\n",
    "        temp = \"\"\n",
    "        for n in numlist:\n",
    "            temp+= \"\"\"avg(case when r.{} is null then 0 else r.{} end) \n",
    "over(partition by o.player order by o.gid asc rows {} preceding) as avg_rz_p_vs_all{},\\n\"\"\".format(word, word, n-1, word +str(n))\n",
    "\n",
    "        string +=temp\n",
    "\n",
    "    return string\n",
    "\n",
    "    \n",
    "#sql_printer_rz(rzcols, rzaverages)"
   ]
  },
  {
   "cell_type": "code",
   "execution_count": 25,
   "metadata": {
    "collapsed": false,
    "scrolled": true
   },
   "outputs": [],
   "source": [
    "### 4 calculated columns for offensive players\n",
    "\n",
    "calced_cols_o = [\n",
    "\"avg(o.pc/nullif(o.pa+o.pc,0))\", \"avg(o.py/nullif(o.pa,0))\", \"avg(o.tdp/nullif(o.pa,0))\", \"avg(o.sra/nullif(o.ra,0))\",\n",
    "\"avg(o.tdr / nullif(o.ra,0))\",  \"avg(o.rec/nullif(o.trg,0))\", \"avg(o.recy/nullif(o.trg,0))\", \n",
    "\"avg(o.ra+nullif(o.trg,0))\", \"avg(o.ra+o.rec)\", \"avg(o.tdrec/nullif(o.rec,0))\",\n",
    "\"avg((o.tdr+o.tdrec+o.tdp)/nullif(o.snp,0))\", \"avg(o.fp3/nullif(o.snp,0))\", \"avg(o.ry/nullif(o.ra,0))\"\n",
    "]\n",
    "\n",
    "nameso = [\"pass_acc\",\"yds_per_att\",\"td_per_pa\", \"succ_rush\", \"td_per_ra\", \"targ_conv\", \"yds_per_targ\", \"rushtargs\",\n",
    "        \"touches\", \"td_per_rec\", \"td_per_snap\", \"fp_per_snap\", \"yds_per_rush\"]\n",
    "\n",
    "cco_avgs = [1,2,3,4,5,8,16]\n",
    "#calced_o(calced_cols_o, cco_avgs, nameso)\n",
    "\n",
    "def calced_o(statlist, numlist, namelist):\n",
    "    string = \"\"\"\n",
    "\n",
    "\"\"\"\n",
    "    for index, word in enumerate(statlist):\n",
    "        temp=\"\"\"\n",
    "\n",
    "\"\"\"\n",
    "        for n in numlist:\n",
    "            temp+= \"\"\"\\\n",
    "case when (\n",
    "{} over(partition by o.player order by o.gid asc rows {} preceding)) \n",
    "is null then 0 else \n",
    "({} over(partition by o.player order by o.gid asc rows {} preceding)) end \n",
    "as avg_p_vs_all_{},\\n\"\"\".format(word, n-1, word, n-1, namelist[index] + str(n-1))\n",
    "\n",
    "        string +=temp\n",
    "    return string\n",
    "\n",
    "# calced_o(calced_cols_o, cco_avgs, nameso)"
   ]
  },
  {
   "cell_type": "code",
   "execution_count": 26,
   "metadata": {
    "collapsed": false
   },
   "outputs": [],
   "source": [
    "### 5 calculated columns for offensive players\n",
    "\n",
    "calced_cols_rz = [\n",
    "\"avg(r.pc/nullif(r.pa+r.pc,0))\", \"avg(r.py/nullif(r.pa,0))\", \n",
    "\"avg(r.sra/nullif(r.ra,0))\",  \"avg(r.rec/nullif(r.trg,0))\",  \"avg(r.recy/nullif(r.trg,0))\", \n",
    "\"avg(r.ra + nullif(r.trg,0))\", \"avg(r.ra + r.rec)\"\n",
    "]\n",
    "\n",
    "namesrz = [\"pass_acc\",\"yds_per_att\", \"succ_rush\", \"targ_conv\", \"yds_per_targ\", \"rushtargs\",\n",
    "        \"touches\"]\n",
    "\n",
    "ccrz_avgs = [1, 2,3,4,5,8,10,12,16]\n",
    "\n",
    "#calced_rz(calced_cols_rz, ccrz_avgs, namesrz)\n",
    "\n",
    "def calced_rz(statlist, numlist, namelist):\n",
    "    string = \"\"\"\n",
    "\n",
    "\"\"\"\n",
    "    for index, word in enumerate(statlist):\n",
    "        temp=\"\"\"\n",
    "\"\"\"\n",
    "        for n in numlist:\n",
    "            temp+= \"\"\"\\\n",
    "case when (\n",
    "{} over(partition by o.player order by o.gid asc rows {} preceding))\n",
    "is null then 0 else\n",
    "({} over(partition by o.player order by o.gid asc rows {} preceding)) end\n",
    "as avg_p_rz_vs_all_cc_{},\\n\"\"\".format(word, n-1, word, n-1, namesrz[index] + str(n-1))\n",
    "\n",
    "        string +=temp\n",
    "    return string\n",
    "# calced_rz(calced_cols_rz, ccrz_avgs, namesrz)"
   ]
  },
  {
   "cell_type": "code",
   "execution_count": 27,
   "metadata": {
    "collapsed": false
   },
   "outputs": [],
   "source": [
    "### 6 calculated columns for teams\n",
    "\n",
    "calced_cols_tm = [\n",
    "\"avg(t.pc/nullif(t.pa+t.pc,0))\", \"avg(t.py/nullif(t.pa,0))\", \n",
    "\"avg(t.sra/nullif(t.ra,0))\", \"avg(t.ry/nullif(t.ra,0))\", \"avg(t.td/ nullif(t.snpo,0))\",\n",
    "    \"avg(t.top/ nullif(t.snpo,0))\"\n",
    "]\n",
    "\n",
    "namestm = [\"pass_acc\",\"yds_per_att\", \"succ_rush\", \"yds_per_rush\", \"td_per_snap\", \"time_per_snap\" ]\n",
    "\n",
    "cctm_avgs = [2,3,4,5,6,7,8,12,16]\n",
    "\n",
    "#calced_tm(calced_cols_tm, cctm_avgs, namestm)\n",
    "\n",
    "def calced_tm(statlist, numlist, namelist):\n",
    "    string = \"\"\"\n",
    "\n",
    "\"\"\"\n",
    "    for index, word in enumerate(statlist):\n",
    "        temp=\"\"\"\n",
    "\"\"\"\n",
    "        for n in numlist:\n",
    "            temp+= \"\"\"\\\n",
    "case when ({} over(partition by o.player order by o.gid asc rows {} preceding))\n",
    "is null then 0 else \n",
    "({} over(partition by o.player order by o.gid asc rows {} preceding)) end\n",
    "as avg_tm_vs_all_{},\\n\"\"\".format(word, n-1, word, n-1, namestm[index] +str(n-1))\n",
    "\n",
    "\n",
    "        string +=temp\n",
    "    return string\n",
    "\n",
    "# calced_tm(calced_cols_tm, cctm_avgs, namestm)"
   ]
  },
  {
   "cell_type": "code",
   "execution_count": 28,
   "metadata": {
    "collapsed": true
   },
   "outputs": [],
   "source": [
    "#team level stats for players team and the opposing team for past few games (team offense and opponent defense strength)\n",
    "\n",
    "tm_avg_cols = ['pts', 'rfd', 'pfd', 'ifd', 'ry', 'ra', 'py', 'pa', 'pc', \n",
    "          'sk', 'ints', 'fum', 'top', \n",
    "          'td', 'tdr', 'tdp', 'tdt', 'rza', 'rzc', 'bry', 'bpy', 'srp', 's1rp', \n",
    "          's2rp', 's3rp', 'spp', 's1pp', 's2pp', 's3pp', 'lea', 'ley', 'lta', 'lty', 'lga', 'lgy', \n",
    "          'mda', 'mdy', 'rga', 'rgy', 'rta', 'rty', 'rea', 'rey', 'r1a', 'r1y', 'r2a', 'r2y', 'r3a', \n",
    "          'r3y', 'qba', 'qby', 'sla', 'sly', 'sma', 'smy', 'sra', 'sry', 'dla', 'dly', 'dma', 'dmy', \n",
    "          'dra', 'dry', 'wr1a', 'wr1y', 'wr3a', 'wr3y', 'tea', 'tey', 'rba', 'rby', 'sga', 'sgy', \n",
    "          'p1a', 'p1y', 'p2a', 'p2y', 'p3a', 'p3y', 'spc', 'mpc', 'lpc', \n",
    "          'lcra', 'lcry', 'lcpa', 'lcpy', 'rzra', 'rzry', 'rzpa', 'rzpy', 'sky', 'lbs', 'dbs', 'sfpy', \n",
    "          'drv', 'lnr', 'lnp', 'lbr', 'lbp', 'dbr', 'dbp', 'nha', 's3a', 's3c', \n",
    "          'l3a', 'l3c', 'stf', 'dp', 'pfn', 'snpo', 'snpd'] \n",
    "\n",
    "\n",
    "\n",
    "#stats to pull from team table\n",
    "teamaverages2 = [1,3,6,11]  #number of games for running average\n",
    "#sql_printer_team(tmcols, teamaverages)\n",
    "\n",
    "\n",
    "def sql_printer_team_avg(statlist, numlist):\n",
    "    string = \"\"\"\n",
    "\n",
    "\n",
    "\"\"\"\n",
    "    for word in statlist:\n",
    "        temp = \"\"\n",
    "        for n in numlist:\n",
    "            temp+= \"\"\"\n",
    "avg(case when t.{} is null then 0 else t.{} end) \n",
    "over(partition by t.tname order by t.gid asc rows {} preceding) as tm_O_{},\n",
    "\n",
    "avg(case when tt.{} is null then 0 else tt.{} end) \n",
    "over(partition by t.tname order by t.gid asc rows {} preceding) as tm_D_{},\\n\"\"\".format(word, word, n-1, \n",
    "                                                                                        word +str(n), word, \n",
    "                                                                                        word, n-1, word +str(n))\n",
    "\n",
    "        string +=temp\n",
    "    string = \"select t.gid, t.tname,\\n\" + string[:-2] + \"\"\"\n",
    "from team t, team tt\n",
    "where t.gid = tt.gid\n",
    "and t.tname <> tt.tname\n",
    "\"\"\"\n",
    "    return string\n",
    "\n",
    "    \n",
    "# sql_printer_team_avg(tm_avg_cols, teamaverages2)"
   ]
  },
  {
   "cell_type": "code",
   "execution_count": 29,
   "metadata": {
    "collapsed": false
   },
   "outputs": [
    {
     "data": {
      "text/plain": [
       "8512"
      ]
     },
     "execution_count": 29,
     "metadata": {},
     "output_type": "execute_result"
    }
   ],
   "source": [
    "sql = sql_printer_team_avg(tm_avg_cols, teamaverages2)\n",
    "\n",
    "df = pd.read_sql(sql, engine)\n",
    "len(df)"
   ]
  },
  {
   "cell_type": "code",
   "execution_count": 30,
   "metadata": {
    "collapsed": true
   },
   "outputs": [],
   "source": [
    "df.to_sql(\"team_avg\", engine, flavor='postgres', if_exists='replace')"
   ]
  },
  {
   "cell_type": "code",
   "execution_count": 31,
   "metadata": {
    "collapsed": false,
    "scrolled": true
   },
   "outputs": [],
   "source": [
    "#HEAD\n",
    "head = \"\"\"\n",
    "\n",
    "\n",
    "--'this query is the general query to pull all of the data from underlying tables\n",
    "\n",
    "select\n",
    "\n",
    "-- 'first section is target and general player /game info, fanduel fantasy pts are the target\n",
    "\n",
    "o.gid,\n",
    "o.player,\n",
    "g.wk,\n",
    "\n",
    "\"\"\"\n",
    "#TABLE1: weather, injuries, vegas, player specs\n",
    "table1=\"\"\"\n",
    "\n",
    "o.fp3 as target, --'need to figure out the shift in sql'\n",
    "o.team,\n",
    "case when o.team = g.h then g.v else g.h end as opponent,\n",
    "\n",
    "p.fname,\n",
    "p.lname,\n",
    "p.pos1,\n",
    "\n",
    "p.dcp, -- 'depth chart position CAT \n",
    "\n",
    "--'injury statuses, practice participation and game status, all CAT\n",
    "i.pstat, --'CAT'\n",
    "i.gstat, -- 'CAT'\n",
    "i.details, -- 'CAT'\n",
    "\n",
    "--'game info, weather, location\n",
    "g.seas,\n",
    "g.stad, --'CAT'\n",
    "case when o.team = g.h then 1 else 0 end as home,\n",
    "case when g.cond in ('Dome', 'Closed Roof') then 'indoor'\n",
    "when g.temp > 85 then 'hot' when g.temp between 84 and 50 then 'mild' else 'cold' end as temp\n",
    ", --'CAT'\n",
    "\n",
    "g.surf, -- 'CAT'\n",
    "g.cond, --'CAT'\n",
    "\n",
    "--'vegas odds info, first the over under (total pts per game), second the implied team score\n",
    "g.ou,\n",
    "case when o.team = g.h then g.ou/2 +g.sprv/2 else g.ou/2 -g.sprv/2 end as imp_score,\n",
    "\n",
    "--'player specific, static attributes, height, weight, draft status etc.\n",
    "p.height,\n",
    "p.weight,\n",
    "g.seas - p.yob as age_in_season,\n",
    "p.forty,\n",
    "p.bench,\n",
    "p.vertical,\n",
    "p.broad,\n",
    "p.shuttle,\n",
    "p.cone,\n",
    "p.arm,\n",
    "p.hand,\n",
    "p.dpos, -- draft pos\n",
    "g.seas-p.start as yrs_exp,\n",
    "\"\"\"\n",
    "\n",
    "\n",
    "#TABLE2: player level avg stats for past few games vs all opps\n",
    "\n",
    "pcols = [ \"pa\",\"pc\",\"py\",\"ints\", \"tdp\",\"fuml\", \"ra\", \"sra\", \"ry\", \"tdr\", \"trg\", \"rec\", \"recy\", \"tdrec\", \"snp\"]\n",
    "paverages = [1,2,3,4,5,8,12,16]\n",
    "\n",
    "table2 = sql_printer_p(pcols, paverages)\n",
    "\n",
    "#TABLE3: player level avg redzone stats for past few games vs all opps\n",
    "\n",
    "rzcols = [\"pa\",\"pc\",\"py\",\"ints\",\"ra\", \"sra\", \"ry\", \"trg\", \"rec\", \"recy\"] #stats to pull from rz table\n",
    "rzaverages = [1,2,3,4,5,9,12,16]   #number of games for running average\n",
    "\n",
    "table3 = sql_printer_rz(rzcols, rzaverages)\n",
    "\n",
    "\n",
    "\n",
    "#TABLE4: derived percentages player level vs all opps\n",
    "\n",
    "calced_cols_o = [\n",
    "\"avg(o.pc/nullif(o.pa+o.pc,0))\", \"avg(o.py/nullif(o.pa,0))\", \"avg(o.tdp/nullif(o.pa,0))\", \"avg(o.sra/nullif(o.ra,0))\",\n",
    "\"avg(o.tdr / nullif(o.ra,0))\",  \"avg(o.rec/nullif(o.trg,0))\", \"avg(o.recy/nullif(o.trg,0))\", \n",
    "\"avg(o.ra+nullif(o.trg,0))\", \"avg(o.ra+o.rec)\", \"avg(o.tdrec/nullif(o.rec,0))\",\n",
    "\"avg((o.tdr+o.tdrec+o.tdp)/nullif(o.snp,0))\", \"avg(o.fp3/nullif(o.snp,0))\", \"avg(o.ry/nullif(o.ra,0))\"\n",
    "]\n",
    "\n",
    "nameso = [\"pass_acc\",\"yds_per_att\",\"td_per_pa\", \"succ_rush\", \"td_per_ra\", \"targ_conv\", \"yds_per_targ\", \"rushtargs\",\n",
    "        \"touches\", \"td_per_rec\", \"td_per_snap\", \"fp_per_snap\", \"yds_per_rush\"]\n",
    "\n",
    "cco_avgs = [1,2,3,4,5,8,16]\n",
    "\n",
    "\n",
    "table4 = calced_o(calced_cols_o, cco_avgs, nameso)\n",
    "\n",
    "#TABLE5: derived percentages player level vs all opps in rz\n",
    "\n",
    "calced_cols_rz = [\n",
    "\"avg(r.pc/nullif(r.pa+r.pc,0))\", \"avg(r.py/nullif(r.pa,0))\", \n",
    "\"avg(r.sra/nullif(r.ra,0))\",  \"avg(r.rec/nullif(r.trg,0))\",  \"avg(r.recy/nullif(r.trg,0))\", \n",
    "\"avg(r.ra + nullif(r.trg,0))\", \"avg(r.ra + r.rec)\"\n",
    "]\n",
    "\n",
    "namesrz = [\"pass_acc\",\"yds_per_att\", \"succ_rush\", \"targ_conv\", \"yds_per_targ\", \"rushtargs\",\n",
    "        \"touches\"]\n",
    "\n",
    "ccrz_avgs = [1,2,3,4,5,8,10,12,16]\n",
    "\n",
    "\n",
    "\n",
    "table5 = calced_rz(calced_cols_rz, ccrz_avgs, namesrz)\n",
    "\n",
    "\n",
    "#TABLE6: calculated columns for teams\n",
    "\n",
    "calced_cols_tm = [\n",
    "\"avg(t.pc/nullif(t.pa+t.pc,0))\", \"avg(t.py/nullif(t.pa,0))\", \n",
    "\"avg(t.sra/nullif(t.ra,0))\", \"avg(t.ry/nullif(t.ra,0))\", \"avg(t.td/ nullif(t.snpo,0))\",\n",
    "    \"avg(t.top/ nullif(t.snpo,0))\"\n",
    "]\n",
    "\n",
    "namestm = [\"pass_acc\",\"yds_per_att\", \"succ_rush\", \"yds_per_rush\", \"td_per_snap\", \"time_per_snap\" ]\n",
    "\n",
    "cctm_avgs = [1,2,3,4,5,6,7,8,12,16]\n",
    "\n",
    "\n",
    "table6 = calced_tm(calced_cols_tm, cctm_avgs, namestm)\n",
    "\n",
    "\n",
    "#the tail query includes all fields from the team avg table\n",
    "\n",
    "regtail = \"\"\"\n",
    "\n",
    "ta.*\n",
    "\n",
    "from offense o \n",
    "left outer join injury i on (i.gid = o.gid and i.player = o.player)\n",
    "left outer join redzone r on (r.gid = o.gid and r.player = o.player)\n",
    "left outer join team t on (t.gid = o.gid and t.tname = o.team) --'players team\n",
    "left outer join team ot on (ot.gid = o.gid and ot.tname <> o.team)\n",
    "left outer join team_avg ta on (ta.gid = o.gid and ta.tname = o.team),\n",
    "player p, \n",
    "game g \n",
    "\n",
    "\n",
    "where p.player = o.player\n",
    "and g.gid = o.gid\n",
    "\n",
    "\"\"\""
   ]
  },
  {
   "cell_type": "code",
   "execution_count": 32,
   "metadata": {
    "collapsed": false,
    "scrolled": false
   },
   "outputs": [
    {
     "data": {
      "text/plain": [
       "88592"
      ]
     },
     "execution_count": 32,
     "metadata": {},
     "output_type": "execute_result"
    }
   ],
   "source": [
    "sql = head + table1 + table2 +table3 + table4 + table5 + table6 + regtail\n",
    "\n",
    "\n",
    "df = pd.read_sql(sql, engine)\n",
    "\n",
    "len(df)"
   ]
  },
  {
   "cell_type": "code",
   "execution_count": 33,
   "metadata": {
    "collapsed": false
   },
   "outputs": [
    {
     "data": {
      "text/plain": [
       "(88592, 1339)"
      ]
     },
     "execution_count": 33,
     "metadata": {},
     "output_type": "execute_result"
    }
   ],
   "source": [
    "np.shape(df)"
   ]
  },
  {
   "cell_type": "code",
   "execution_count": 35,
   "metadata": {
    "collapsed": true
   },
   "outputs": [],
   "source": [
    "df.to_csv(\"~/ProjectData/NFL/all_data_10_13_v2.csv\")"
   ]
  },
  {
   "cell_type": "code",
   "execution_count": null,
   "metadata": {
    "collapsed": true
   },
   "outputs": [],
   "source": []
  }
 ],
 "metadata": {
  "anaconda-cloud": {},
  "kernelspec": {
   "display_name": "Python [Root]",
   "language": "python",
   "name": "Python [Root]"
  },
  "language_info": {
   "codemirror_mode": {
    "name": "ipython",
    "version": 2
   },
   "file_extension": ".py",
   "mimetype": "text/x-python",
   "name": "python",
   "nbconvert_exporter": "python",
   "pygments_lexer": "ipython2",
   "version": "2.7.12"
  }
 },
 "nbformat": 4,
 "nbformat_minor": 0
}
