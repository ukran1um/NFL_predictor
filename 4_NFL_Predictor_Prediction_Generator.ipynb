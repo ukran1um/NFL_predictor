{
 "cells": [
  {
   "cell_type": "code",
   "execution_count": 1,
   "metadata": {
    "collapsed": true
   },
   "outputs": [],
   "source": [
    "from nfl import process #saved as a package the make_feature function defined in previous notebook\n",
    "import pandas as pd\n",
    "import numpy as np\n",
    "from sklearn.preprocessing import Imputer, RobustScaler, StandardScaler\n",
    "\n",
    "from sklearn.linear_model import LinearRegression, ElasticNetCV\n",
    "\n",
    "from sklearn.grid_search import GridSearchCV\n",
    "\n",
    "from time import ctime\n",
    "\n",
    "from sklearn.cross_validation import cross_val_score\n",
    "\n",
    "import seaborn as sns\n",
    "\n",
    "import matplotlib.pyplot as plt\n",
    "\n",
    "from sklearn.cross_validation import train_test_split, ShuffleSplit\n",
    "from sklearn.ensemble import ExtraTreesRegressor\n",
    "\n",
    "import statsmodels.formula.api as smf\n",
    "from statsmodels.api import add_constant\n",
    "\n",
    "from sklearn.metrics import mean_squared_error, r2_score \n",
    "\n",
    "from sklearn.svm import SVR, LinearSVR\n",
    "\n",
    "import scipy.stats as stats\n",
    "import math\n",
    "\n",
    "import time\n",
    "\n",
    "from sklearn.linear_model import Lasso, Ridge, RidgeCV\n",
    "\n",
    "\n",
    "%matplotlib inline"
   ]
  },
  {
   "cell_type": "markdown",
   "metadata": {},
   "source": [
    "### The general game plan is as follows. Start with several years of data for each position, and generate week by week data for the past by re-training the model on all of the prior data."
   ]
  },
  {
   "cell_type": "code",
   "execution_count": 2,
   "metadata": {
    "collapsed": true
   },
   "outputs": [],
   "source": [
    "df = pd.read_csv(\"~/ProjectData/NFL/all_data_10_13_v2.csv\", low_memory=False)"
   ]
  },
  {
   "cell_type": "code",
   "execution_count": 3,
   "metadata": {
    "collapsed": false,
    "scrolled": false
   },
   "outputs": [
    {
     "name": "stderr",
     "output_type": "stream",
     "text": [
      "/Users/egorkharakozov/anaconda/lib/python2.7/site-packages/pandas/core/indexing.py:465: SettingWithCopyWarning: \n",
      "A value is trying to be set on a copy of a slice from a DataFrame.\n",
      "Try using .loc[row_indexer,col_indexer] = value instead\n",
      "\n",
      "See the caveats in the documentation: http://pandas.pydata.org/pandas-docs/stable/indexing.html#indexing-view-versus-copy\n",
      "  self.obj[item] = s\n"
     ]
    },
    {
     "data": {
      "text/html": [
       "<div>\n",
       "<table border=\"1\" class=\"dataframe\">\n",
       "  <thead>\n",
       "    <tr style=\"text-align: right;\">\n",
       "      <th></th>\n",
       "      <th>gid</th>\n",
       "      <th>player</th>\n",
       "      <th>wk</th>\n",
       "      <th>target</th>\n",
       "      <th>fname</th>\n",
       "      <th>lname</th>\n",
       "      <th>seas</th>\n",
       "      <th>ou</th>\n",
       "      <th>imp_score</th>\n",
       "      <th>height</th>\n",
       "      <th>...</th>\n",
       "      <th>dummy_20.0</th>\n",
       "      <th>dummy_21.0</th>\n",
       "      <th>dummy_3.0</th>\n",
       "      <th>dummy_4.0</th>\n",
       "      <th>dummy_5.0</th>\n",
       "      <th>dummy_6.0</th>\n",
       "      <th>dummy_7.0</th>\n",
       "      <th>dummy_8.0</th>\n",
       "      <th>dummy_9.0</th>\n",
       "      <th>dummy_nan</th>\n",
       "    </tr>\n",
       "  </thead>\n",
       "  <tbody>\n",
       "    <tr>\n",
       "      <th>0</th>\n",
       "      <td>2963.0</td>\n",
       "      <td>TS-2300</td>\n",
       "      <td>3.0</td>\n",
       "      <td>42.2</td>\n",
       "      <td>Torrey</td>\n",
       "      <td>Smith</td>\n",
       "      <td>2011.0</td>\n",
       "      <td>-0.500000</td>\n",
       "      <td>0.045455</td>\n",
       "      <td>0.0</td>\n",
       "      <td>...</td>\n",
       "      <td>0.0</td>\n",
       "      <td>0.0</td>\n",
       "      <td>1.0</td>\n",
       "      <td>0.0</td>\n",
       "      <td>0.0</td>\n",
       "      <td>0.0</td>\n",
       "      <td>0.0</td>\n",
       "      <td>0.0</td>\n",
       "      <td>0.0</td>\n",
       "      <td>0.0</td>\n",
       "    </tr>\n",
       "    <tr>\n",
       "      <th>1</th>\n",
       "      <td>2984.0</td>\n",
       "      <td>TS-2300</td>\n",
       "      <td>4.0</td>\n",
       "      <td>1.1</td>\n",
       "      <td>Torrey</td>\n",
       "      <td>Smith</td>\n",
       "      <td>2011.0</td>\n",
       "      <td>-0.416667</td>\n",
       "      <td>0.090909</td>\n",
       "      <td>0.0</td>\n",
       "      <td>...</td>\n",
       "      <td>0.0</td>\n",
       "      <td>0.0</td>\n",
       "      <td>0.0</td>\n",
       "      <td>1.0</td>\n",
       "      <td>0.0</td>\n",
       "      <td>0.0</td>\n",
       "      <td>0.0</td>\n",
       "      <td>0.0</td>\n",
       "      <td>0.0</td>\n",
       "      <td>0.0</td>\n",
       "    </tr>\n",
       "    <tr>\n",
       "      <th>2</th>\n",
       "      <td>3007.0</td>\n",
       "      <td>TS-2300</td>\n",
       "      <td>6.0</td>\n",
       "      <td>11.4</td>\n",
       "      <td>Torrey</td>\n",
       "      <td>Smith</td>\n",
       "      <td>2011.0</td>\n",
       "      <td>0.083333</td>\n",
       "      <td>0.727273</td>\n",
       "      <td>0.0</td>\n",
       "      <td>...</td>\n",
       "      <td>0.0</td>\n",
       "      <td>0.0</td>\n",
       "      <td>0.0</td>\n",
       "      <td>0.0</td>\n",
       "      <td>0.0</td>\n",
       "      <td>1.0</td>\n",
       "      <td>0.0</td>\n",
       "      <td>0.0</td>\n",
       "      <td>0.0</td>\n",
       "      <td>0.0</td>\n",
       "    </tr>\n",
       "  </tbody>\n",
       "</table>\n",
       "<p>3 rows × 1528 columns</p>\n",
       "</div>"
      ],
      "text/plain": [
       "      gid   player   wk  target   fname  lname    seas        ou  imp_score  \\\n",
       "0  2963.0  TS-2300  3.0    42.2  Torrey  Smith  2011.0 -0.500000   0.045455   \n",
       "1  2984.0  TS-2300  4.0     1.1  Torrey  Smith  2011.0 -0.416667   0.090909   \n",
       "2  3007.0  TS-2300  6.0    11.4  Torrey  Smith  2011.0  0.083333   0.727273   \n",
       "\n",
       "   height    ...      dummy_20.0  dummy_21.0  dummy_3.0  dummy_4.0  dummy_5.0  \\\n",
       "0     0.0    ...             0.0         0.0        1.0        0.0        0.0   \n",
       "1     0.0    ...             0.0         0.0        0.0        1.0        0.0   \n",
       "2     0.0    ...             0.0         0.0        0.0        0.0        0.0   \n",
       "\n",
       "   dummy_6.0  dummy_7.0  dummy_8.0  dummy_9.0  dummy_nan  \n",
       "0        0.0        0.0        0.0        0.0        0.0  \n",
       "1        0.0        0.0        0.0        0.0        0.0  \n",
       "2        1.0        0.0        0.0        0.0        0.0  \n",
       "\n",
       "[3 rows x 1528 columns]"
      ]
     },
     "execution_count": 3,
     "metadata": {},
     "output_type": "execute_result"
    }
   ],
   "source": [
    "wr = process.make_feature(\"WR\", 2010, df = df)\n",
    "wr.head(3)"
   ]
  },
  {
   "cell_type": "code",
   "execution_count": 4,
   "metadata": {
    "collapsed": false
   },
   "outputs": [
    {
     "data": {
      "text/html": [
       "<div>\n",
       "<table border=\"1\" class=\"dataframe\">\n",
       "  <thead>\n",
       "    <tr style=\"text-align: right;\">\n",
       "      <th></th>\n",
       "      <th>gid</th>\n",
       "      <th>player</th>\n",
       "      <th>wk</th>\n",
       "      <th>target</th>\n",
       "      <th>fname</th>\n",
       "      <th>lname</th>\n",
       "      <th>seas</th>\n",
       "      <th>ou</th>\n",
       "      <th>imp_score</th>\n",
       "      <th>height</th>\n",
       "      <th>...</th>\n",
       "      <th>dummy_20.0</th>\n",
       "      <th>dummy_21.0</th>\n",
       "      <th>dummy_3.0</th>\n",
       "      <th>dummy_4.0</th>\n",
       "      <th>dummy_5.0</th>\n",
       "      <th>dummy_6.0</th>\n",
       "      <th>dummy_7.0</th>\n",
       "      <th>dummy_8.0</th>\n",
       "      <th>dummy_9.0</th>\n",
       "      <th>dummy_nan</th>\n",
       "    </tr>\n",
       "  </thead>\n",
       "  <tbody>\n",
       "    <tr>\n",
       "      <th>0</th>\n",
       "      <td>2948.0</td>\n",
       "      <td>AS-1600</td>\n",
       "      <td>2.0</td>\n",
       "      <td>15.26</td>\n",
       "      <td>Alex</td>\n",
       "      <td>Smith</td>\n",
       "      <td>2011.0</td>\n",
       "      <td>-0.333333</td>\n",
       "      <td>-0.470588</td>\n",
       "      <td>0.0</td>\n",
       "      <td>...</td>\n",
       "      <td>0.0</td>\n",
       "      <td>0.0</td>\n",
       "      <td>0.0</td>\n",
       "      <td>0.0</td>\n",
       "      <td>0.0</td>\n",
       "      <td>0.0</td>\n",
       "      <td>0.0</td>\n",
       "      <td>0.0</td>\n",
       "      <td>0.0</td>\n",
       "      <td>0.0</td>\n",
       "    </tr>\n",
       "    <tr>\n",
       "      <th>1</th>\n",
       "      <td>2961.0</td>\n",
       "      <td>AS-1600</td>\n",
       "      <td>3.0</td>\n",
       "      <td>8.04</td>\n",
       "      <td>Alex</td>\n",
       "      <td>Smith</td>\n",
       "      <td>2011.0</td>\n",
       "      <td>-0.666667</td>\n",
       "      <td>-0.611765</td>\n",
       "      <td>0.0</td>\n",
       "      <td>...</td>\n",
       "      <td>0.0</td>\n",
       "      <td>0.0</td>\n",
       "      <td>1.0</td>\n",
       "      <td>0.0</td>\n",
       "      <td>0.0</td>\n",
       "      <td>0.0</td>\n",
       "      <td>0.0</td>\n",
       "      <td>0.0</td>\n",
       "      <td>0.0</td>\n",
       "      <td>0.0</td>\n",
       "    </tr>\n",
       "    <tr>\n",
       "      <th>2</th>\n",
       "      <td>2976.0</td>\n",
       "      <td>AS-1600</td>\n",
       "      <td>4.0</td>\n",
       "      <td>18.54</td>\n",
       "      <td>Alex</td>\n",
       "      <td>Smith</td>\n",
       "      <td>2011.0</td>\n",
       "      <td>-0.083333</td>\n",
       "      <td>-0.894118</td>\n",
       "      <td>0.0</td>\n",
       "      <td>...</td>\n",
       "      <td>0.0</td>\n",
       "      <td>0.0</td>\n",
       "      <td>0.0</td>\n",
       "      <td>1.0</td>\n",
       "      <td>0.0</td>\n",
       "      <td>0.0</td>\n",
       "      <td>0.0</td>\n",
       "      <td>0.0</td>\n",
       "      <td>0.0</td>\n",
       "      <td>0.0</td>\n",
       "    </tr>\n",
       "  </tbody>\n",
       "</table>\n",
       "<p>3 rows × 1529 columns</p>\n",
       "</div>"
      ],
      "text/plain": [
       "      gid   player   wk  target fname  lname    seas        ou  imp_score  \\\n",
       "0  2948.0  AS-1600  2.0   15.26  Alex  Smith  2011.0 -0.333333  -0.470588   \n",
       "1  2961.0  AS-1600  3.0    8.04  Alex  Smith  2011.0 -0.666667  -0.611765   \n",
       "2  2976.0  AS-1600  4.0   18.54  Alex  Smith  2011.0 -0.083333  -0.894118   \n",
       "\n",
       "   height    ...      dummy_20.0  dummy_21.0  dummy_3.0  dummy_4.0  dummy_5.0  \\\n",
       "0     0.0    ...             0.0         0.0        0.0        0.0        0.0   \n",
       "1     0.0    ...             0.0         0.0        1.0        0.0        0.0   \n",
       "2     0.0    ...             0.0         0.0        0.0        1.0        0.0   \n",
       "\n",
       "   dummy_6.0  dummy_7.0  dummy_8.0  dummy_9.0  dummy_nan  \n",
       "0        0.0        0.0        0.0        0.0        0.0  \n",
       "1        0.0        0.0        0.0        0.0        0.0  \n",
       "2        0.0        0.0        0.0        0.0        0.0  \n",
       "\n",
       "[3 rows x 1529 columns]"
      ]
     },
     "execution_count": 4,
     "metadata": {},
     "output_type": "execute_result"
    }
   ],
   "source": [
    "qb = process.make_feature(\"QB\", 2010, df = df)\n",
    "qb.head(3)"
   ]
  },
  {
   "cell_type": "code",
   "execution_count": 5,
   "metadata": {
    "collapsed": false
   },
   "outputs": [
    {
     "data": {
      "text/html": [
       "<div>\n",
       "<table border=\"1\" class=\"dataframe\">\n",
       "  <thead>\n",
       "    <tr style=\"text-align: right;\">\n",
       "      <th></th>\n",
       "      <th>gid</th>\n",
       "      <th>player</th>\n",
       "      <th>wk</th>\n",
       "      <th>target</th>\n",
       "      <th>fname</th>\n",
       "      <th>lname</th>\n",
       "      <th>seas</th>\n",
       "      <th>ou</th>\n",
       "      <th>imp_score</th>\n",
       "      <th>height</th>\n",
       "      <th>...</th>\n",
       "      <th>dummy_20.0</th>\n",
       "      <th>dummy_21.0</th>\n",
       "      <th>dummy_3.0</th>\n",
       "      <th>dummy_4.0</th>\n",
       "      <th>dummy_5.0</th>\n",
       "      <th>dummy_6.0</th>\n",
       "      <th>dummy_7.0</th>\n",
       "      <th>dummy_8.0</th>\n",
       "      <th>dummy_9.0</th>\n",
       "      <th>dummy_nan</th>\n",
       "    </tr>\n",
       "  </thead>\n",
       "  <tbody>\n",
       "    <tr>\n",
       "      <th>0</th>\n",
       "      <td>2970.0</td>\n",
       "      <td>MB-1800</td>\n",
       "      <td>4.0</td>\n",
       "      <td>4.2</td>\n",
       "      <td>Martellus</td>\n",
       "      <td>Bennett</td>\n",
       "      <td>2011.0</td>\n",
       "      <td>0.250000</td>\n",
       "      <td>0.363636</td>\n",
       "      <td>0.666667</td>\n",
       "      <td>...</td>\n",
       "      <td>0.0</td>\n",
       "      <td>0.0</td>\n",
       "      <td>0.0</td>\n",
       "      <td>1.0</td>\n",
       "      <td>0.0</td>\n",
       "      <td>0.0</td>\n",
       "      <td>0.0</td>\n",
       "      <td>0.0</td>\n",
       "      <td>0.0</td>\n",
       "      <td>0.0</td>\n",
       "    </tr>\n",
       "    <tr>\n",
       "      <th>1</th>\n",
       "      <td>3009.0</td>\n",
       "      <td>MB-1800</td>\n",
       "      <td>6.0</td>\n",
       "      <td>3.3</td>\n",
       "      <td>Martellus</td>\n",
       "      <td>Bennett</td>\n",
       "      <td>2011.0</td>\n",
       "      <td>1.833333</td>\n",
       "      <td>0.409091</td>\n",
       "      <td>0.666667</td>\n",
       "      <td>...</td>\n",
       "      <td>0.0</td>\n",
       "      <td>0.0</td>\n",
       "      <td>0.0</td>\n",
       "      <td>0.0</td>\n",
       "      <td>0.0</td>\n",
       "      <td>1.0</td>\n",
       "      <td>0.0</td>\n",
       "      <td>0.0</td>\n",
       "      <td>0.0</td>\n",
       "      <td>0.0</td>\n",
       "    </tr>\n",
       "    <tr>\n",
       "      <th>2</th>\n",
       "      <td>3022.0</td>\n",
       "      <td>MB-1800</td>\n",
       "      <td>7.0</td>\n",
       "      <td>0.0</td>\n",
       "      <td>Martellus</td>\n",
       "      <td>Bennett</td>\n",
       "      <td>2011.0</td>\n",
       "      <td>-0.250000</td>\n",
       "      <td>1.045455</td>\n",
       "      <td>0.666667</td>\n",
       "      <td>...</td>\n",
       "      <td>0.0</td>\n",
       "      <td>0.0</td>\n",
       "      <td>0.0</td>\n",
       "      <td>0.0</td>\n",
       "      <td>0.0</td>\n",
       "      <td>0.0</td>\n",
       "      <td>1.0</td>\n",
       "      <td>0.0</td>\n",
       "      <td>0.0</td>\n",
       "      <td>0.0</td>\n",
       "    </tr>\n",
       "  </tbody>\n",
       "</table>\n",
       "<p>3 rows × 1529 columns</p>\n",
       "</div>"
      ],
      "text/plain": [
       "      gid   player   wk  target      fname    lname    seas        ou  \\\n",
       "0  2970.0  MB-1800  4.0     4.2  Martellus  Bennett  2011.0  0.250000   \n",
       "1  3009.0  MB-1800  6.0     3.3  Martellus  Bennett  2011.0  1.833333   \n",
       "2  3022.0  MB-1800  7.0     0.0  Martellus  Bennett  2011.0 -0.250000   \n",
       "\n",
       "   imp_score    height    ...      dummy_20.0  dummy_21.0  dummy_3.0  \\\n",
       "0   0.363636  0.666667    ...             0.0         0.0        0.0   \n",
       "1   0.409091  0.666667    ...             0.0         0.0        0.0   \n",
       "2   1.045455  0.666667    ...             0.0         0.0        0.0   \n",
       "\n",
       "   dummy_4.0  dummy_5.0  dummy_6.0  dummy_7.0  dummy_8.0  dummy_9.0  dummy_nan  \n",
       "0        1.0        0.0        0.0        0.0        0.0        0.0        0.0  \n",
       "1        0.0        0.0        1.0        0.0        0.0        0.0        0.0  \n",
       "2        0.0        0.0        0.0        1.0        0.0        0.0        0.0  \n",
       "\n",
       "[3 rows x 1529 columns]"
      ]
     },
     "execution_count": 5,
     "metadata": {},
     "output_type": "execute_result"
    }
   ],
   "source": [
    "te = process.make_feature(\"TE\", 2010, df = df)\n",
    "te.head(3)"
   ]
  },
  {
   "cell_type": "code",
   "execution_count": 6,
   "metadata": {
    "collapsed": false
   },
   "outputs": [
    {
     "data": {
      "text/html": [
       "<div>\n",
       "<table border=\"1\" class=\"dataframe\">\n",
       "  <thead>\n",
       "    <tr style=\"text-align: right;\">\n",
       "      <th></th>\n",
       "      <th>gid</th>\n",
       "      <th>player</th>\n",
       "      <th>wk</th>\n",
       "      <th>target</th>\n",
       "      <th>fname</th>\n",
       "      <th>lname</th>\n",
       "      <th>seas</th>\n",
       "      <th>ou</th>\n",
       "      <th>imp_score</th>\n",
       "      <th>height</th>\n",
       "      <th>...</th>\n",
       "      <th>dummy_20.0</th>\n",
       "      <th>dummy_21.0</th>\n",
       "      <th>dummy_3.0</th>\n",
       "      <th>dummy_4.0</th>\n",
       "      <th>dummy_5.0</th>\n",
       "      <th>dummy_6.0</th>\n",
       "      <th>dummy_7.0</th>\n",
       "      <th>dummy_8.0</th>\n",
       "      <th>dummy_9.0</th>\n",
       "      <th>dummy_nan</th>\n",
       "    </tr>\n",
       "  </thead>\n",
       "  <tbody>\n",
       "    <tr>\n",
       "      <th>0</th>\n",
       "      <td>2977.0</td>\n",
       "      <td>BM-2400</td>\n",
       "      <td>4.0</td>\n",
       "      <td>1.3</td>\n",
       "      <td>Brit</td>\n",
       "      <td>Miller</td>\n",
       "      <td>2011.0</td>\n",
       "      <td>-0.166667</td>\n",
       "      <td>-0.318182</td>\n",
       "      <td>0.333333</td>\n",
       "      <td>...</td>\n",
       "      <td>0.0</td>\n",
       "      <td>0.0</td>\n",
       "      <td>0.0</td>\n",
       "      <td>1.0</td>\n",
       "      <td>0.0</td>\n",
       "      <td>0.0</td>\n",
       "      <td>0.0</td>\n",
       "      <td>0.0</td>\n",
       "      <td>0.0</td>\n",
       "      <td>0.0</td>\n",
       "    </tr>\n",
       "    <tr>\n",
       "      <th>1</th>\n",
       "      <td>3048.0</td>\n",
       "      <td>BM-2400</td>\n",
       "      <td>9.0</td>\n",
       "      <td>0.1</td>\n",
       "      <td>Brit</td>\n",
       "      <td>Miller</td>\n",
       "      <td>2011.0</td>\n",
       "      <td>-0.583333</td>\n",
       "      <td>-0.590909</td>\n",
       "      <td>0.333333</td>\n",
       "      <td>...</td>\n",
       "      <td>0.0</td>\n",
       "      <td>0.0</td>\n",
       "      <td>0.0</td>\n",
       "      <td>0.0</td>\n",
       "      <td>0.0</td>\n",
       "      <td>0.0</td>\n",
       "      <td>0.0</td>\n",
       "      <td>0.0</td>\n",
       "      <td>1.0</td>\n",
       "      <td>0.0</td>\n",
       "    </tr>\n",
       "    <tr>\n",
       "      <th>2</th>\n",
       "      <td>3059.0</td>\n",
       "      <td>BM-2400</td>\n",
       "      <td>10.0</td>\n",
       "      <td>3.2</td>\n",
       "      <td>Brit</td>\n",
       "      <td>Miller</td>\n",
       "      <td>2011.0</td>\n",
       "      <td>-1.250000</td>\n",
       "      <td>-0.954545</td>\n",
       "      <td>0.333333</td>\n",
       "      <td>...</td>\n",
       "      <td>0.0</td>\n",
       "      <td>0.0</td>\n",
       "      <td>0.0</td>\n",
       "      <td>0.0</td>\n",
       "      <td>0.0</td>\n",
       "      <td>0.0</td>\n",
       "      <td>0.0</td>\n",
       "      <td>0.0</td>\n",
       "      <td>0.0</td>\n",
       "      <td>0.0</td>\n",
       "    </tr>\n",
       "  </tbody>\n",
       "</table>\n",
       "<p>3 rows × 1527 columns</p>\n",
       "</div>"
      ],
      "text/plain": [
       "      gid   player    wk  target fname   lname    seas        ou  imp_score  \\\n",
       "0  2977.0  BM-2400   4.0     1.3  Brit  Miller  2011.0 -0.166667  -0.318182   \n",
       "1  3048.0  BM-2400   9.0     0.1  Brit  Miller  2011.0 -0.583333  -0.590909   \n",
       "2  3059.0  BM-2400  10.0     3.2  Brit  Miller  2011.0 -1.250000  -0.954545   \n",
       "\n",
       "     height    ...      dummy_20.0  dummy_21.0  dummy_3.0  dummy_4.0  \\\n",
       "0  0.333333    ...             0.0         0.0        0.0        1.0   \n",
       "1  0.333333    ...             0.0         0.0        0.0        0.0   \n",
       "2  0.333333    ...             0.0         0.0        0.0        0.0   \n",
       "\n",
       "   dummy_5.0  dummy_6.0  dummy_7.0  dummy_8.0  dummy_9.0  dummy_nan  \n",
       "0        0.0        0.0        0.0        0.0        0.0        0.0  \n",
       "1        0.0        0.0        0.0        0.0        1.0        0.0  \n",
       "2        0.0        0.0        0.0        0.0        0.0        0.0  \n",
       "\n",
       "[3 rows x 1527 columns]"
      ]
     },
     "execution_count": 6,
     "metadata": {},
     "output_type": "execute_result"
    }
   ],
   "source": [
    "rb = process.make_feature(\"RB\", 2010, df = df)\n",
    "rb.head(3)"
   ]
  },
  {
   "cell_type": "code",
   "execution_count": 7,
   "metadata": {
    "collapsed": false
   },
   "outputs": [
    {
     "name": "stderr",
     "output_type": "stream",
     "text": [
      "/Users/egorkharakozov/anaconda/lib/python2.7/site-packages/pandas/core/generic.py:2701: SettingWithCopyWarning: \n",
      "A value is trying to be set on a copy of a slice from a DataFrame.\n",
      "Try using .loc[row_indexer,col_indexer] = value instead\n",
      "\n",
      "See the caveats in the documentation: http://pandas.pydata.org/pandas-docs/stable/indexing.html#indexing-view-versus-copy\n",
      "  self[name] = value\n"
     ]
    }
   ],
   "source": [
    "wr_X, wr_y, wr_frame = process.crop_and_separate(0, 1, wr, \"data\")"
   ]
  },
  {
   "cell_type": "code",
   "execution_count": 8,
   "metadata": {
    "collapsed": true
   },
   "outputs": [],
   "source": [
    "qb_X, qb_y , qb_frame = process.crop_and_separate(0, 1, qb, \"data\")"
   ]
  },
  {
   "cell_type": "code",
   "execution_count": 9,
   "metadata": {
    "collapsed": true
   },
   "outputs": [],
   "source": [
    "rb_X, rb_y, rb_frame = process.crop_and_separate(0, 1, rb, \"data\")"
   ]
  },
  {
   "cell_type": "code",
   "execution_count": 10,
   "metadata": {
    "collapsed": true
   },
   "outputs": [],
   "source": [
    "te_X, te_y, te_frame = process.crop_and_separate(0, 1, te, \"data\")"
   ]
  },
  {
   "cell_type": "markdown",
   "metadata": {},
   "source": [
    "###### PROTOTYPE THE PREDICTION LOOP"
   ]
  },
  {
   "cell_type": "code",
   "execution_count": 11,
   "metadata": {
    "collapsed": false
   },
   "outputs": [
    {
     "data": {
      "text/html": [
       "<div>\n",
       "<table border=\"1\" class=\"dataframe\">\n",
       "  <thead>\n",
       "    <tr style=\"text-align: right;\">\n",
       "      <th></th>\n",
       "      <th>gid</th>\n",
       "      <th>player</th>\n",
       "      <th>wk</th>\n",
       "      <th>target</th>\n",
       "      <th>fname</th>\n",
       "      <th>lname</th>\n",
       "      <th>seas</th>\n",
       "      <th>ou</th>\n",
       "      <th>imp_score</th>\n",
       "      <th>height</th>\n",
       "      <th>...</th>\n",
       "      <th>dummy_20.0</th>\n",
       "      <th>dummy_21.0</th>\n",
       "      <th>dummy_3.0</th>\n",
       "      <th>dummy_4.0</th>\n",
       "      <th>dummy_5.0</th>\n",
       "      <th>dummy_6.0</th>\n",
       "      <th>dummy_7.0</th>\n",
       "      <th>dummy_8.0</th>\n",
       "      <th>dummy_9.0</th>\n",
       "      <th>dummy_nan</th>\n",
       "    </tr>\n",
       "  </thead>\n",
       "  <tbody>\n",
       "    <tr>\n",
       "      <th>0</th>\n",
       "      <td>2963.0</td>\n",
       "      <td>TS-2300</td>\n",
       "      <td>3</td>\n",
       "      <td>42.2</td>\n",
       "      <td>Torrey</td>\n",
       "      <td>Smith</td>\n",
       "      <td>2011</td>\n",
       "      <td>-0.500000</td>\n",
       "      <td>0.045455</td>\n",
       "      <td>0.0</td>\n",
       "      <td>...</td>\n",
       "      <td>0.0</td>\n",
       "      <td>0.0</td>\n",
       "      <td>1.0</td>\n",
       "      <td>0.0</td>\n",
       "      <td>0.0</td>\n",
       "      <td>0.0</td>\n",
       "      <td>0.0</td>\n",
       "      <td>0.0</td>\n",
       "      <td>0.0</td>\n",
       "      <td>0.0</td>\n",
       "    </tr>\n",
       "    <tr>\n",
       "      <th>1</th>\n",
       "      <td>2984.0</td>\n",
       "      <td>TS-2300</td>\n",
       "      <td>4</td>\n",
       "      <td>1.1</td>\n",
       "      <td>Torrey</td>\n",
       "      <td>Smith</td>\n",
       "      <td>2011</td>\n",
       "      <td>-0.416667</td>\n",
       "      <td>0.090909</td>\n",
       "      <td>0.0</td>\n",
       "      <td>...</td>\n",
       "      <td>0.0</td>\n",
       "      <td>0.0</td>\n",
       "      <td>0.0</td>\n",
       "      <td>1.0</td>\n",
       "      <td>0.0</td>\n",
       "      <td>0.0</td>\n",
       "      <td>0.0</td>\n",
       "      <td>0.0</td>\n",
       "      <td>0.0</td>\n",
       "      <td>0.0</td>\n",
       "    </tr>\n",
       "    <tr>\n",
       "      <th>2</th>\n",
       "      <td>3007.0</td>\n",
       "      <td>TS-2300</td>\n",
       "      <td>6</td>\n",
       "      <td>11.4</td>\n",
       "      <td>Torrey</td>\n",
       "      <td>Smith</td>\n",
       "      <td>2011</td>\n",
       "      <td>0.083333</td>\n",
       "      <td>0.727273</td>\n",
       "      <td>0.0</td>\n",
       "      <td>...</td>\n",
       "      <td>0.0</td>\n",
       "      <td>0.0</td>\n",
       "      <td>0.0</td>\n",
       "      <td>0.0</td>\n",
       "      <td>0.0</td>\n",
       "      <td>1.0</td>\n",
       "      <td>0.0</td>\n",
       "      <td>0.0</td>\n",
       "      <td>0.0</td>\n",
       "      <td>0.0</td>\n",
       "    </tr>\n",
       "    <tr>\n",
       "      <th>3</th>\n",
       "      <td>3024.0</td>\n",
       "      <td>TS-2300</td>\n",
       "      <td>7</td>\n",
       "      <td>6.2</td>\n",
       "      <td>Torrey</td>\n",
       "      <td>Smith</td>\n",
       "      <td>2011</td>\n",
       "      <td>-0.833333</td>\n",
       "      <td>0.272727</td>\n",
       "      <td>0.0</td>\n",
       "      <td>...</td>\n",
       "      <td>0.0</td>\n",
       "      <td>0.0</td>\n",
       "      <td>0.0</td>\n",
       "      <td>0.0</td>\n",
       "      <td>0.0</td>\n",
       "      <td>0.0</td>\n",
       "      <td>1.0</td>\n",
       "      <td>0.0</td>\n",
       "      <td>0.0</td>\n",
       "      <td>0.0</td>\n",
       "    </tr>\n",
       "    <tr>\n",
       "      <th>4</th>\n",
       "      <td>3027.0</td>\n",
       "      <td>TS-2300</td>\n",
       "      <td>8</td>\n",
       "      <td>8.7</td>\n",
       "      <td>Torrey</td>\n",
       "      <td>Smith</td>\n",
       "      <td>2011</td>\n",
       "      <td>-0.250000</td>\n",
       "      <td>1.000000</td>\n",
       "      <td>0.0</td>\n",
       "      <td>...</td>\n",
       "      <td>0.0</td>\n",
       "      <td>0.0</td>\n",
       "      <td>0.0</td>\n",
       "      <td>0.0</td>\n",
       "      <td>0.0</td>\n",
       "      <td>0.0</td>\n",
       "      <td>0.0</td>\n",
       "      <td>1.0</td>\n",
       "      <td>0.0</td>\n",
       "      <td>0.0</td>\n",
       "    </tr>\n",
       "  </tbody>\n",
       "</table>\n",
       "<p>5 rows × 1528 columns</p>\n",
       "</div>"
      ],
      "text/plain": [
       "      gid   player  wk  target   fname  lname  seas        ou  imp_score  \\\n",
       "0  2963.0  TS-2300   3    42.2  Torrey  Smith  2011 -0.500000   0.045455   \n",
       "1  2984.0  TS-2300   4     1.1  Torrey  Smith  2011 -0.416667   0.090909   \n",
       "2  3007.0  TS-2300   6    11.4  Torrey  Smith  2011  0.083333   0.727273   \n",
       "3  3024.0  TS-2300   7     6.2  Torrey  Smith  2011 -0.833333   0.272727   \n",
       "4  3027.0  TS-2300   8     8.7  Torrey  Smith  2011 -0.250000   1.000000   \n",
       "\n",
       "   height    ...      dummy_20.0  dummy_21.0  dummy_3.0  dummy_4.0  dummy_5.0  \\\n",
       "0     0.0    ...             0.0         0.0        1.0        0.0        0.0   \n",
       "1     0.0    ...             0.0         0.0        0.0        1.0        0.0   \n",
       "2     0.0    ...             0.0         0.0        0.0        0.0        0.0   \n",
       "3     0.0    ...             0.0         0.0        0.0        0.0        0.0   \n",
       "4     0.0    ...             0.0         0.0        0.0        0.0        0.0   \n",
       "\n",
       "   dummy_6.0  dummy_7.0  dummy_8.0  dummy_9.0  dummy_nan  \n",
       "0        0.0        0.0        0.0        0.0        0.0  \n",
       "1        0.0        0.0        0.0        0.0        0.0  \n",
       "2        1.0        0.0        0.0        0.0        0.0  \n",
       "3        0.0        1.0        0.0        0.0        0.0  \n",
       "4        0.0        0.0        1.0        0.0        0.0  \n",
       "\n",
       "[5 rows x 1528 columns]"
      ]
     },
     "execution_count": 11,
     "metadata": {},
     "output_type": "execute_result"
    }
   ],
   "source": [
    "#the loop will use the frame to figure out the X weights and the indexes on which to fit/predict the X and y\n",
    "X, y, frame = process.crop_and_separate(0, 2, wr, \"data\")\n",
    "frame.head()"
   ]
  },
  {
   "cell_type": "code",
   "execution_count": 12,
   "metadata": {
    "collapsed": false
   },
   "outputs": [],
   "source": [
    "#define model, using the RF with the attributes that I grid searched for in notebook 3\n",
    "et4 = ExtraTreesRegressor(max_depth=7,\n",
    "                          min_samples_leaf= 30, \n",
    "                          min_weight_fraction_leaf=0.13740419750125152, \n",
    "                          n_estimators=50, n_jobs = -1)\n",
    "\n"
   ]
  },
  {
   "cell_type": "code",
   "execution_count": 13,
   "metadata": {
    "collapsed": false
   },
   "outputs": [
    {
     "name": "stdout",
     "output_type": "stream",
     "text": [
      "2011\n",
      "2012\n",
      "2013\n",
      "2014\n",
      "2015\n"
     ]
    }
   ],
   "source": [
    "for year in set(frame.seas): print year"
   ]
  },
  {
   "cell_type": "code",
   "execution_count": 14,
   "metadata": {
    "collapsed": true
   },
   "outputs": [],
   "source": [
    "sy = 2014 #years to predict forward from\n",
    "cy = 2015 #looping current year of prediction\n",
    "cw = 2 # looping current week of prediction\n",
    "player = \"TS-2300\""
   ]
  },
  {
   "cell_type": "code",
   "execution_count": 15,
   "metadata": {
    "collapsed": false,
    "scrolled": true
   },
   "outputs": [
    {
     "name": "stdout",
     "output_type": "stream",
     "text": [
      "1\n",
      "2\n",
      "3\n",
      "4\n",
      "5\n",
      "6\n",
      "7\n",
      "8\n",
      "9\n",
      "10\n",
      "11\n",
      "12\n",
      "13\n",
      "14\n",
      "15\n",
      "16\n",
      "17\n",
      "18\n",
      "19\n",
      "20\n",
      "21\n"
     ]
    }
   ],
   "source": [
    "for week in set(frame[frame.seas == sy].wk): print week"
   ]
  },
  {
   "cell_type": "code",
   "execution_count": 16,
   "metadata": {
    "collapsed": false
   },
   "outputs": [],
   "source": [
    "#define prediction index\n",
    "predict_rows = frame[(frame.seas == cy) & (frame.wk == cw) & (frame.player == player)].index"
   ]
  },
  {
   "cell_type": "code",
   "execution_count": 17,
   "metadata": {
    "collapsed": false
   },
   "outputs": [],
   "source": [
    "#define training index\n",
    "train_rows = frame[(((frame.seas == cy) & (frame.wk <=cw)) | (frame.seas < cy)) ].index"
   ]
  },
  {
   "cell_type": "markdown",
   "metadata": {},
   "source": [
    "#### Another thing to do here is to, compute a sample weighting vector, but i want to time it as well to see if its realistic to re-fit per player per week. The weighting would apply a multiplication factor to the players score and weight by ratio of scores so it would be two fold, favor the higher perfomances since that is what I am targeting and also add an extra weight to each particular "
   ]
  },
  {
   "cell_type": "code",
   "execution_count": 18,
   "metadata": {
    "collapsed": true
   },
   "outputs": [],
   "source": [
    "frame[\"weight\"] = frame.target"
   ]
  },
  {
   "cell_type": "code",
   "execution_count": 19,
   "metadata": {
    "collapsed": false,
    "scrolled": true
   },
   "outputs": [
    {
     "name": "stdout",
     "output_type": "stream",
     "text": [
      "1 loop, best of 3: 2.28 s per loop\n"
     ]
    }
   ],
   "source": [
    "%%timeit\n",
    "\n",
    "#a = time.time()\n",
    "\n",
    "\n",
    "frame.ix[frame.player == player,\"weight\"] = frame.ix[frame.player == player,\"weight\"] *10 \n",
    "frame.weight = frame.weight/sum(frame.weight)\n",
    "#print sum(frame.weight)\n",
    "\n",
    "et4.fit(X.ix[train_rows], y.ix[train_rows], sample_weight= np.array(frame.weight.ix[train_rows]))\n",
    "x = et4.predict(X.ix[predict_rows])\n",
    "#b = time.time()\n",
    "\n",
    "#print b-a"
   ]
  },
  {
   "cell_type": "markdown",
   "metadata": {},
   "source": [
    "##### PREDICTION FUNCTION"
   ]
  },
  {
   "cell_type": "code",
   "execution_count": 20,
   "metadata": {
    "collapsed": false
   },
   "outputs": [],
   "source": [
    "def generate_prediction(X, y, frame, sy, model, w=10):\n",
    "    \"\"\"generates predictions by player by week with the option to increase the weight of the players\n",
    "    historic performances. w = 1 would weight every players game by the amount of fp scored without\n",
    "    increasing the weight of each player's own games. w=0 does not apply any sample weight.\n",
    "    \n",
    "    frame = dataframe resulting from the make feature function\n",
    "    sy = starting year to predict from\n",
    "    w = factor to apply to each players scores when weighting samples\n",
    "    model = predictor with a fit/predict method\"\"\"\n",
    "    yr_set = pd.Series([_ for _ in set(frame.seas)])\n",
    "    cycle_yrs = yr_set[yr_set>=sy]\n",
    "    for year in cycle_yrs:\n",
    "        week_set = pd.Series([_ for _ in set(frame.wk[frame.seas==year])])\n",
    "        for week in week_set:\n",
    "            player_set = pd.Series([_ for _ in set(frame.player[(frame.seas == year) & (frame.wk == week)])])\n",
    "            for player in player_set:\n",
    "                predict_rows = frame[(frame.seas == year) & (frame.wk == week) & (frame.player == player)].index\n",
    "                train_rows = frame[(((frame.seas == year) & (frame.wk <=week)) | (frame.seas < year)) ].index\n",
    "                \n",
    "                if w == 0:\n",
    "                    model.fit(X.ix[train_rows], y.ix[train_rows])\n",
    "                else:\n",
    "                    print player, year, week\n",
    "                    frame[\"weight\"] = frame.target\n",
    "                    frame.ix[frame.player == player,\"weight\"] = frame.ix[frame.player == player,\"weight\"] *w\n",
    "                    frame.weight = frame.weight/sum(frame.weight)\n",
    "                    model.fit(X.ix[train_rows], y.ix[train_rows], sample_weight= np.array(frame.weight.ix[train_rows]))\n",
    "                \n",
    "                frame.ix[predict_rows,\"prediction\"] = model.predict(X.ix[predict_rows])\n",
    "                \n",
    "            print \"Week \", week, \" year \", year, \" is done.\"\n",
    "        \n",
    "    return frame\n",
    "    \n",
    "    "
   ]
  },
  {
   "cell_type": "code",
   "execution_count": 21,
   "metadata": {
    "collapsed": false
   },
   "outputs": [],
   "source": [
    "\n",
    "lr = Lasso()"
   ]
  },
  {
   "cell_type": "code",
   "execution_count": 22,
   "metadata": {
    "collapsed": false
   },
   "outputs": [
    {
     "name": "stdout",
     "output_type": "stream",
     "text": [
      "Week  1  year  2014  is done.\n",
      "Week  2  year  2014  is done.\n",
      "Week  3  year  2014  is done.\n",
      "Week  4  year  2014  is done.\n",
      "Week  5  year  2014  is done.\n",
      "Week  6  year  2014  is done.\n",
      "Week  7  year  2014  is done.\n",
      "Week  8  year  2014  is done.\n",
      "Week  9  year  2014  is done.\n",
      "Week  10  year  2014  is done.\n",
      "Week  11  year  2014  is done.\n",
      "Week  12  year  2014  is done.\n",
      "Week  13  year  2014  is done.\n",
      "Week  14  year  2014  is done.\n",
      "Week  15  year  2014  is done.\n",
      "Week  16  year  2014  is done.\n",
      "Week  17  year  2014  is done.\n",
      "Week  18  year  2014  is done.\n",
      "Week  19  year  2014  is done.\n",
      "Week  20  year  2014  is done.\n",
      "Week  21  year  2014  is done.\n",
      "Week  1  year  2015  is done.\n",
      "Week  2  year  2015  is done.\n",
      "Week  3  year  2015  is done.\n",
      "Week  4  year  2015  is done.\n",
      "Week  5  year  2015  is done.\n",
      "Week  6  year  2015  is done.\n",
      "Week  7  year  2015  is done.\n",
      "Week  8  year  2015  is done.\n",
      "Week  9  year  2015  is done.\n",
      "Week  10  year  2015  is done.\n",
      "Week  11  year  2015  is done.\n",
      "Week  12  year  2015  is done.\n",
      "Week  13  year  2015  is done.\n",
      "Week  14  year  2015  is done.\n",
      "Week  15  year  2015  is done.\n",
      "Week  16  year  2015  is done.\n",
      "Week  17  year  2015  is done.\n",
      "Week  18  year  2015  is done.\n",
      "Week  19  year  2015  is done.\n",
      "Week  20  year  2015  is done.\n",
      "Week  21  year  2015  is done.\n",
      "683.106523991\n"
     ]
    }
   ],
   "source": [
    "a= time.time()\n",
    "qb_result = generate_prediction(qb_X, qb_y, qb_frame, 2014, lr, w=0)\n",
    "print time.time() - a"
   ]
  },
  {
   "cell_type": "code",
   "execution_count": 23,
   "metadata": {
    "collapsed": false
   },
   "outputs": [
    {
     "name": "stdout",
     "output_type": "stream",
     "text": [
      "Week  1  year  2014  is done.\n",
      "Week  2  year  2014  is done.\n",
      "Week  3  year  2014  is done.\n",
      "Week  4  year  2014  is done.\n",
      "Week  5  year  2014  is done.\n",
      "Week  6  year  2014  is done.\n",
      "Week  7  year  2014  is done.\n",
      "Week  8  year  2014  is done.\n",
      "Week  9  year  2014  is done.\n",
      "Week  10  year  2014  is done.\n",
      "Week  11  year  2014  is done.\n",
      "Week  12  year  2014  is done.\n",
      "Week  13  year  2014  is done.\n",
      "Week  14  year  2014  is done.\n",
      "Week  15  year  2014  is done.\n",
      "Week  16  year  2014  is done.\n",
      "Week  17  year  2014  is done.\n",
      "Week  18  year  2014  is done.\n",
      "Week  19  year  2014  is done.\n",
      "Week  20  year  2014  is done.\n",
      "Week  21  year  2014  is done.\n",
      "Week  1  year  2015  is done.\n",
      "Week  2  year  2015  is done.\n",
      "Week  3  year  2015  is done.\n",
      "Week  4  year  2015  is done.\n",
      "Week  5  year  2015  is done.\n",
      "Week  6  year  2015  is done.\n",
      "Week  7  year  2015  is done.\n",
      "Week  8  year  2015  is done.\n",
      "Week  9  year  2015  is done.\n",
      "Week  10  year  2015  is done.\n",
      "Week  11  year  2015  is done.\n",
      "Week  12  year  2015  is done.\n",
      "Week  13  year  2015  is done.\n",
      "Week  14  year  2015  is done.\n",
      "Week  15  year  2015  is done.\n",
      "Week  16  year  2015  is done.\n",
      "Week  17  year  2015  is done.\n",
      "Week  18  year  2015  is done.\n",
      "Week  19  year  2015  is done.\n",
      "Week  20  year  2015  is done.\n",
      "Week  21  year  2015  is done.\n",
      "6956.83773112\n"
     ]
    }
   ],
   "source": [
    "a= time.time()\n",
    "wr_result = generate_prediction(wr_X, wr_y, wr_frame, 2014, lr, w=0)\n",
    "print time.time() - a"
   ]
  },
  {
   "cell_type": "code",
   "execution_count": 24,
   "metadata": {
    "collapsed": false
   },
   "outputs": [
    {
     "name": "stdout",
     "output_type": "stream",
     "text": [
      "Week  1  year  2014  is done.\n",
      "Week  2  year  2014  is done.\n",
      "Week  3  year  2014  is done.\n",
      "Week  4  year  2014  is done.\n",
      "Week  5  year  2014  is done.\n",
      "Week  6  year  2014  is done.\n",
      "Week  7  year  2014  is done.\n",
      "Week  8  year  2014  is done.\n",
      "Week  9  year  2014  is done.\n",
      "Week  10  year  2014  is done.\n",
      "Week  11  year  2014  is done.\n",
      "Week  12  year  2014  is done.\n",
      "Week  13  year  2014  is done.\n",
      "Week  14  year  2014  is done.\n",
      "Week  15  year  2014  is done.\n",
      "Week  16  year  2014  is done.\n",
      "Week  17  year  2014  is done.\n",
      "Week  18  year  2014  is done.\n",
      "Week  19  year  2014  is done.\n",
      "Week  20  year  2014  is done.\n",
      "Week  21  year  2014  is done.\n",
      "Week  1  year  2015  is done.\n",
      "Week  2  year  2015  is done.\n",
      "Week  3  year  2015  is done.\n",
      "Week  4  year  2015  is done.\n",
      "Week  5  year  2015  is done.\n",
      "Week  6  year  2015  is done.\n",
      "Week  7  year  2015  is done.\n",
      "Week  8  year  2015  is done.\n",
      "Week  9  year  2015  is done.\n",
      "Week  10  year  2015  is done.\n",
      "Week  11  year  2015  is done.\n",
      "Week  12  year  2015  is done.\n",
      "Week  13  year  2015  is done.\n",
      "Week  14  year  2015  is done.\n",
      "Week  15  year  2015  is done.\n",
      "Week  16  year  2015  is done.\n",
      "Week  17  year  2015  is done.\n",
      "Week  18  year  2015  is done.\n",
      "Week  19  year  2015  is done.\n",
      "Week  20  year  2015  is done.\n",
      "Week  21  year  2015  is done.\n",
      "2771.03204393\n"
     ]
    }
   ],
   "source": [
    "a= time.time()\n",
    "rb_result = generate_prediction(rb_X, rb_y, rb_frame, 2014, lr, w=0)\n",
    "print time.time() - a"
   ]
  },
  {
   "cell_type": "code",
   "execution_count": 25,
   "metadata": {
    "collapsed": false
   },
   "outputs": [
    {
     "name": "stdout",
     "output_type": "stream",
     "text": [
      "Week  1  year  2014  is done.\n",
      "Week  2  year  2014  is done.\n",
      "Week  3  year  2014  is done.\n",
      "Week  4  year  2014  is done.\n",
      "Week  5  year  2014  is done.\n",
      "Week  6  year  2014  is done.\n",
      "Week  7  year  2014  is done.\n",
      "Week  8  year  2014  is done.\n",
      "Week  9  year  2014  is done.\n",
      "Week  10  year  2014  is done.\n",
      "Week  11  year  2014  is done.\n",
      "Week  12  year  2014  is done.\n",
      "Week  13  year  2014  is done.\n",
      "Week  14  year  2014  is done.\n",
      "Week  15  year  2014  is done.\n",
      "Week  16  year  2014  is done.\n",
      "Week  17  year  2014  is done.\n",
      "Week  18  year  2014  is done.\n",
      "Week  19  year  2014  is done.\n",
      "Week  20  year  2014  is done.\n",
      "Week  21  year  2014  is done.\n",
      "Week  1  year  2015  is done.\n",
      "Week  2  year  2015  is done.\n",
      "Week  3  year  2015  is done.\n",
      "Week  4  year  2015  is done.\n",
      "Week  5  year  2015  is done.\n",
      "Week  6  year  2015  is done.\n",
      "Week  7  year  2015  is done.\n",
      "Week  8  year  2015  is done.\n",
      "Week  9  year  2015  is done.\n",
      "Week  10  year  2015  is done.\n",
      "Week  11  year  2015  is done.\n",
      "Week  12  year  2015  is done.\n",
      "Week  13  year  2015  is done.\n",
      "Week  14  year  2015  is done.\n",
      "Week  15  year  2015  is done.\n",
      "Week  16  year  2015  is done.\n",
      "Week  17  year  2015  is done.\n",
      "Week  18  year  2015  is done.\n",
      "Week  19  year  2015  is done.\n",
      "Week  20  year  2015  is done.\n",
      "Week  21  year  2015  is done.\n",
      "1254.81157303\n"
     ]
    }
   ],
   "source": [
    "a= time.time()\n",
    "te_result = generate_prediction(te_X, te_y, te_frame, 2014, lr, w=0)\n",
    "print time.time() - a"
   ]
  },
  {
   "cell_type": "code",
   "execution_count": 26,
   "metadata": {
    "collapsed": true
   },
   "outputs": [],
   "source": [
    "#save the prediction frames down so i can run some analysis in the next notebook"
   ]
  },
  {
   "cell_type": "code",
   "execution_count": 27,
   "metadata": {
    "collapsed": true
   },
   "outputs": [],
   "source": [
    "qb_result[\"pos\"] = \"QB\"\n",
    "wr_result[\"pos\"] = \"WR\"\n",
    "rb_result[\"pos\"] = \"RB\"\n",
    "te_result[\"pos\"] = \"TE\""
   ]
  },
  {
   "cell_type": "code",
   "execution_count": 28,
   "metadata": {
    "collapsed": false
   },
   "outputs": [
    {
     "data": {
      "text/html": [
       "<div>\n",
       "<table border=\"1\" class=\"dataframe\">\n",
       "  <thead>\n",
       "    <tr style=\"text-align: right;\">\n",
       "      <th></th>\n",
       "      <th>gid</th>\n",
       "      <th>player</th>\n",
       "      <th>wk</th>\n",
       "      <th>target</th>\n",
       "      <th>fname</th>\n",
       "      <th>lname</th>\n",
       "      <th>seas</th>\n",
       "      <th>ou</th>\n",
       "      <th>imp_score</th>\n",
       "      <th>height</th>\n",
       "      <th>...</th>\n",
       "      <th>dummy_3.0</th>\n",
       "      <th>dummy_4.0</th>\n",
       "      <th>dummy_5.0</th>\n",
       "      <th>dummy_6.0</th>\n",
       "      <th>dummy_7.0</th>\n",
       "      <th>dummy_8.0</th>\n",
       "      <th>dummy_9.0</th>\n",
       "      <th>dummy_nan</th>\n",
       "      <th>prediction</th>\n",
       "      <th>pos</th>\n",
       "    </tr>\n",
       "  </thead>\n",
       "  <tbody>\n",
       "    <tr>\n",
       "      <th>0</th>\n",
       "      <td>2948.0</td>\n",
       "      <td>AS-1600</td>\n",
       "      <td>2</td>\n",
       "      <td>15.26</td>\n",
       "      <td>Alex</td>\n",
       "      <td>Smith</td>\n",
       "      <td>2011</td>\n",
       "      <td>-0.333333</td>\n",
       "      <td>-0.470588</td>\n",
       "      <td>0.0</td>\n",
       "      <td>...</td>\n",
       "      <td>0.0</td>\n",
       "      <td>0.0</td>\n",
       "      <td>0.0</td>\n",
       "      <td>0.0</td>\n",
       "      <td>0.0</td>\n",
       "      <td>0.0</td>\n",
       "      <td>0.0</td>\n",
       "      <td>0.0</td>\n",
       "      <td>NaN</td>\n",
       "      <td>QB</td>\n",
       "    </tr>\n",
       "  </tbody>\n",
       "</table>\n",
       "<p>1 rows × 1531 columns</p>\n",
       "</div>"
      ],
      "text/plain": [
       "      gid   player  wk  target fname  lname  seas        ou  imp_score  \\\n",
       "0  2948.0  AS-1600   2   15.26  Alex  Smith  2011 -0.333333  -0.470588   \n",
       "\n",
       "   height ...   dummy_3.0  dummy_4.0  dummy_5.0  dummy_6.0  dummy_7.0  \\\n",
       "0     0.0 ...         0.0        0.0        0.0        0.0        0.0   \n",
       "\n",
       "   dummy_8.0  dummy_9.0  dummy_nan  prediction  pos  \n",
       "0        0.0        0.0        0.0         NaN   QB  \n",
       "\n",
       "[1 rows x 1531 columns]"
      ]
     },
     "execution_count": 28,
     "metadata": {},
     "output_type": "execute_result"
    }
   ],
   "source": [
    "grab_cols = [\"target\", \"prediction\", \"gid\", \"player\",  \"pos\", \"fname\", \"lname\", \"seas\", \"wk\"]\n",
    "\n",
    "qb_result.head(1)\n",
    "\n"
   ]
  },
  {
   "cell_type": "code",
   "execution_count": 29,
   "metadata": {
    "collapsed": false
   },
   "outputs": [],
   "source": [
    "final = qb_result[grab_cols].append(wr_result[grab_cols]).append(rb_result[grab_cols]).append(te_result[grab_cols])"
   ]
  },
  {
   "cell_type": "code",
   "execution_count": 33,
   "metadata": {
    "collapsed": true
   },
   "outputs": [],
   "source": [
    "final.to_csv(\"predictions_10_20.csv\")"
   ]
  },
  {
   "cell_type": "code",
   "execution_count": 31,
   "metadata": {
    "collapsed": false
   },
   "outputs": [],
   "source": [
    "test = final[[\"target\", \"prediction\"]].dropna()"
   ]
  },
  {
   "cell_type": "code",
   "execution_count": 32,
   "metadata": {
    "collapsed": false
   },
   "outputs": [
    {
     "data": {
      "text/plain": [
       "0.33249462172245048"
      ]
     },
     "execution_count": 32,
     "metadata": {},
     "output_type": "execute_result"
    }
   ],
   "source": [
    "r2_score(test.target, test.prediction)"
   ]
  },
  {
   "cell_type": "markdown",
   "metadata": {},
   "source": [
    "#### The results of the RF are not here but I was not getting a good R2 score (close to 0) which may have been due to overfitting in the third notebook but it looks like a Lasso model works failry well here across all positions so I will move on to the next step which is the line up optimization."
   ]
  },
  {
   "cell_type": "code",
   "execution_count": null,
   "metadata": {
    "collapsed": true
   },
   "outputs": [],
   "source": []
  }
 ],
 "metadata": {
  "kernelspec": {
   "display_name": "Python [Root]",
   "language": "python",
   "name": "Python [Root]"
  },
  "language_info": {
   "codemirror_mode": {
    "name": "ipython",
    "version": 2
   },
   "file_extension": ".py",
   "mimetype": "text/x-python",
   "name": "python",
   "nbconvert_exporter": "python",
   "pygments_lexer": "ipython2",
   "version": "2.7.12"
  }
 },
 "nbformat": 4,
 "nbformat_minor": 0
}
