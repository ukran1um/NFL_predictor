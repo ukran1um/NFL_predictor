{
 "cells": [
  {
   "cell_type": "code",
   "execution_count": 14,
   "metadata": {
    "collapsed": false
   },
   "outputs": [],
   "source": [
    "from nfl import process #saved as a package the make_feature function defined in previous notebook\n",
    "import pandas as pd\n",
    "import numpy as np\n",
    "from sklearn.preprocessing import Imputer, RobustScaler, StandardScaler\n",
    "\n",
    "from sklearn.linear_model import LinearRegression, ElasticNetCV\n",
    "\n",
    "from sklearn.grid_search import GridSearchCV\n",
    "\n",
    "from time import ctime\n",
    "\n",
    "from sklearn.cross_validation import cross_val_score\n",
    "\n",
    "import seaborn as sns\n",
    "\n",
    "import matplotlib.pyplot as plt\n",
    "\n",
    "from sklearn.cross_validation import train_test_split, ShuffleSplit\n",
    "from sklearn.ensemble import ExtraTreesRegressor\n",
    "\n",
    "import statsmodels.formula.api as smf\n",
    "from statsmodels.api import add_constant\n",
    "\n",
    "from sklearn.metrics import mean_squared_error, r2_score \n",
    "\n",
    "from sklearn.svm import SVR, LinearSVR\n",
    "\n",
    "import scipy.stats as stats\n",
    "import math\n",
    "\n",
    "%matplotlib inline"
   ]
  },
  {
   "cell_type": "code",
   "execution_count": null,
   "metadata": {
    "collapsed": false
   },
   "outputs": [],
   "source": []
  },
  {
   "cell_type": "code",
   "execution_count": 2,
   "metadata": {
    "collapsed": false
   },
   "outputs": [],
   "source": [
    "df = pd.read_csv(\"~/ProjectData/NFL/all_data_10_13_v2.csv\", low_memory=False)"
   ]
  },
  {
   "cell_type": "code",
   "execution_count": 3,
   "metadata": {
    "collapsed": false
   },
   "outputs": [
    {
     "data": {
      "text/plain": [
       "(88592, 1340)"
      ]
     },
     "execution_count": 3,
     "metadata": {},
     "output_type": "execute_result"
    }
   ],
   "source": [
    "np.shape(df)"
   ]
  },
  {
   "cell_type": "code",
   "execution_count": 4,
   "metadata": {
    "collapsed": false,
    "scrolled": true
   },
   "outputs": [
    {
     "data": {
      "text/html": [
       "<div>\n",
       "<table border=\"1\" class=\"dataframe\">\n",
       "  <thead>\n",
       "    <tr style=\"text-align: right;\">\n",
       "      <th></th>\n",
       "      <th>Unnamed: 0</th>\n",
       "      <th>gid</th>\n",
       "      <th>player</th>\n",
       "      <th>wk</th>\n",
       "      <th>target</th>\n",
       "      <th>team</th>\n",
       "      <th>opponent</th>\n",
       "      <th>fname</th>\n",
       "      <th>lname</th>\n",
       "      <th>pos1</th>\n",
       "      <th>...</th>\n",
       "      <th>tm_o_snpo11</th>\n",
       "      <th>tm_d_snpo11</th>\n",
       "      <th>tm_o_snpd1</th>\n",
       "      <th>tm_d_snpd1</th>\n",
       "      <th>tm_o_snpd3</th>\n",
       "      <th>tm_d_snpd3</th>\n",
       "      <th>tm_o_snpd6</th>\n",
       "      <th>tm_d_snpd6</th>\n",
       "      <th>tm_o_snpd11</th>\n",
       "      <th>tm_d_snpd11</th>\n",
       "    </tr>\n",
       "  </thead>\n",
       "  <tbody>\n",
       "    <tr>\n",
       "      <th>0</th>\n",
       "      <td>0</td>\n",
       "      <td>3999</td>\n",
       "      <td>AA-0025</td>\n",
       "      <td>1</td>\n",
       "      <td>19.4</td>\n",
       "      <td>DET</td>\n",
       "      <td>SD</td>\n",
       "      <td>Ameer</td>\n",
       "      <td>Abdullah</td>\n",
       "      <td>RB</td>\n",
       "      <td>...</td>\n",
       "      <td>66.000000</td>\n",
       "      <td>66.272727</td>\n",
       "      <td>79.0</td>\n",
       "      <td>47.0</td>\n",
       "      <td>69.000000</td>\n",
       "      <td>61.000000</td>\n",
       "      <td>67.333333</td>\n",
       "      <td>62.500000</td>\n",
       "      <td>66.272727</td>\n",
       "      <td>66.000000</td>\n",
       "    </tr>\n",
       "    <tr>\n",
       "      <th>1</th>\n",
       "      <td>1</td>\n",
       "      <td>4010</td>\n",
       "      <td>AA-0025</td>\n",
       "      <td>2</td>\n",
       "      <td>2.8</td>\n",
       "      <td>DET</td>\n",
       "      <td>MIN</td>\n",
       "      <td>Ameer</td>\n",
       "      <td>Abdullah</td>\n",
       "      <td>RB</td>\n",
       "      <td>...</td>\n",
       "      <td>66.272727</td>\n",
       "      <td>66.727273</td>\n",
       "      <td>65.0</td>\n",
       "      <td>78.0</td>\n",
       "      <td>68.666667</td>\n",
       "      <td>64.000000</td>\n",
       "      <td>67.500000</td>\n",
       "      <td>64.000000</td>\n",
       "      <td>66.727273</td>\n",
       "      <td>66.272727</td>\n",
       "    </tr>\n",
       "    <tr>\n",
       "      <th>2</th>\n",
       "      <td>2</td>\n",
       "      <td>4036</td>\n",
       "      <td>AA-0025</td>\n",
       "      <td>3</td>\n",
       "      <td>12.2</td>\n",
       "      <td>DET</td>\n",
       "      <td>DEN</td>\n",
       "      <td>Ameer</td>\n",
       "      <td>Abdullah</td>\n",
       "      <td>RB</td>\n",
       "      <td>...</td>\n",
       "      <td>66.909091</td>\n",
       "      <td>67.000000</td>\n",
       "      <td>64.0</td>\n",
       "      <td>74.0</td>\n",
       "      <td>69.333333</td>\n",
       "      <td>66.333333</td>\n",
       "      <td>66.666667</td>\n",
       "      <td>67.833333</td>\n",
       "      <td>67.000000</td>\n",
       "      <td>66.909091</td>\n",
       "    </tr>\n",
       "    <tr>\n",
       "      <th>3</th>\n",
       "      <td>3</td>\n",
       "      <td>4052</td>\n",
       "      <td>AA-0025</td>\n",
       "      <td>4</td>\n",
       "      <td>6.4</td>\n",
       "      <td>DET</td>\n",
       "      <td>SEA</td>\n",
       "      <td>Ameer</td>\n",
       "      <td>Abdullah</td>\n",
       "      <td>RB</td>\n",
       "      <td>...</td>\n",
       "      <td>66.909091</td>\n",
       "      <td>67.272727</td>\n",
       "      <td>65.0</td>\n",
       "      <td>56.0</td>\n",
       "      <td>64.666667</td>\n",
       "      <td>69.333333</td>\n",
       "      <td>66.833333</td>\n",
       "      <td>65.166667</td>\n",
       "      <td>67.272727</td>\n",
       "      <td>66.909091</td>\n",
       "    </tr>\n",
       "    <tr>\n",
       "      <th>4</th>\n",
       "      <td>4</td>\n",
       "      <td>4062</td>\n",
       "      <td>AA-0025</td>\n",
       "      <td>5</td>\n",
       "      <td>2.6</td>\n",
       "      <td>DET</td>\n",
       "      <td>ARI</td>\n",
       "      <td>Ameer</td>\n",
       "      <td>Abdullah</td>\n",
       "      <td>RB</td>\n",
       "      <td>...</td>\n",
       "      <td>68.272727</td>\n",
       "      <td>64.363636</td>\n",
       "      <td>46.0</td>\n",
       "      <td>95.0</td>\n",
       "      <td>58.333333</td>\n",
       "      <td>75.000000</td>\n",
       "      <td>63.500000</td>\n",
       "      <td>69.500000</td>\n",
       "      <td>64.363636</td>\n",
       "      <td>68.272727</td>\n",
       "    </tr>\n",
       "  </tbody>\n",
       "</table>\n",
       "<p>5 rows × 1340 columns</p>\n",
       "</div>"
      ],
      "text/plain": [
       "   Unnamed: 0   gid   player  wk  target team opponent  fname     lname pos1  \\\n",
       "0           0  3999  AA-0025   1    19.4  DET       SD  Ameer  Abdullah   RB   \n",
       "1           1  4010  AA-0025   2     2.8  DET      MIN  Ameer  Abdullah   RB   \n",
       "2           2  4036  AA-0025   3    12.2  DET      DEN  Ameer  Abdullah   RB   \n",
       "3           3  4052  AA-0025   4     6.4  DET      SEA  Ameer  Abdullah   RB   \n",
       "4           4  4062  AA-0025   5     2.6  DET      ARI  Ameer  Abdullah   RB   \n",
       "\n",
       "      ...      tm_o_snpo11 tm_d_snpo11 tm_o_snpd1 tm_d_snpd1  tm_o_snpd3  \\\n",
       "0     ...        66.000000   66.272727       79.0       47.0   69.000000   \n",
       "1     ...        66.272727   66.727273       65.0       78.0   68.666667   \n",
       "2     ...        66.909091   67.000000       64.0       74.0   69.333333   \n",
       "3     ...        66.909091   67.272727       65.0       56.0   64.666667   \n",
       "4     ...        68.272727   64.363636       46.0       95.0   58.333333   \n",
       "\n",
       "  tm_d_snpd3  tm_o_snpd6 tm_d_snpd6 tm_o_snpd11 tm_d_snpd11  \n",
       "0  61.000000   67.333333  62.500000   66.272727   66.000000  \n",
       "1  64.000000   67.500000  64.000000   66.727273   66.272727  \n",
       "2  66.333333   66.666667  67.833333   67.000000   66.909091  \n",
       "3  69.333333   66.833333  65.166667   67.272727   66.909091  \n",
       "4  75.000000   63.500000  69.500000   64.363636   68.272727  \n",
       "\n",
       "[5 rows x 1340 columns]"
      ]
     },
     "execution_count": 4,
     "metadata": {},
     "output_type": "execute_result"
    }
   ],
   "source": [
    "df.head()"
   ]
  },
  {
   "cell_type": "code",
   "execution_count": 5,
   "metadata": {
    "collapsed": false
   },
   "outputs": [],
   "source": [
    "#te = process.make_feature(\"TE\", 2000, df = df)\n",
    "#te.head(1)"
   ]
  },
  {
   "cell_type": "code",
   "execution_count": 6,
   "metadata": {
    "collapsed": false
   },
   "outputs": [],
   "source": [
    "#qb = process.make_feature(\"QB\", 2000, df = df)\n",
    "#qb.head(1)"
   ]
  },
  {
   "cell_type": "code",
   "execution_count": 3,
   "metadata": {
    "collapsed": false,
    "scrolled": true
   },
   "outputs": [
    {
     "name": "stderr",
     "output_type": "stream",
     "text": [
      "/Users/egorkharakozov/anaconda/lib/python2.7/site-packages/pandas/core/indexing.py:465: SettingWithCopyWarning: \n",
      "A value is trying to be set on a copy of a slice from a DataFrame.\n",
      "Try using .loc[row_indexer,col_indexer] = value instead\n",
      "\n",
      "See the caveats in the documentation: http://pandas.pydata.org/pandas-docs/stable/indexing.html#indexing-view-versus-copy\n",
      "  self.obj[item] = s\n"
     ]
    },
    {
     "data": {
      "text/html": [
       "<div>\n",
       "<table border=\"1\" class=\"dataframe\">\n",
       "  <thead>\n",
       "    <tr style=\"text-align: right;\">\n",
       "      <th></th>\n",
       "      <th>gid</th>\n",
       "      <th>player</th>\n",
       "      <th>wk</th>\n",
       "      <th>target</th>\n",
       "      <th>fname</th>\n",
       "      <th>lname</th>\n",
       "      <th>seas</th>\n",
       "      <th>ou</th>\n",
       "      <th>imp_score</th>\n",
       "      <th>height</th>\n",
       "      <th>...</th>\n",
       "      <th>dummy_2</th>\n",
       "      <th>dummy_20</th>\n",
       "      <th>dummy_21</th>\n",
       "      <th>dummy_3</th>\n",
       "      <th>dummy_4</th>\n",
       "      <th>dummy_5</th>\n",
       "      <th>dummy_6</th>\n",
       "      <th>dummy_7</th>\n",
       "      <th>dummy_8</th>\n",
       "      <th>dummy_9</th>\n",
       "    </tr>\n",
       "  </thead>\n",
       "  <tbody>\n",
       "    <tr>\n",
       "      <th>0</th>\n",
       "      <td>2929</td>\n",
       "      <td>TS-2300</td>\n",
       "      <td>1</td>\n",
       "      <td>42.2</td>\n",
       "      <td>Torrey</td>\n",
       "      <td>Smith</td>\n",
       "      <td>2011</td>\n",
       "      <td>-0.500000</td>\n",
       "      <td>0.045455</td>\n",
       "      <td>0.0</td>\n",
       "      <td>...</td>\n",
       "      <td>0.0</td>\n",
       "      <td>0.0</td>\n",
       "      <td>0.0</td>\n",
       "      <td>0.0</td>\n",
       "      <td>0.0</td>\n",
       "      <td>0.0</td>\n",
       "      <td>0.0</td>\n",
       "      <td>0.0</td>\n",
       "      <td>0.0</td>\n",
       "      <td>0.0</td>\n",
       "    </tr>\n",
       "    <tr>\n",
       "      <th>1</th>\n",
       "      <td>2963</td>\n",
       "      <td>TS-2300</td>\n",
       "      <td>3</td>\n",
       "      <td>1.1</td>\n",
       "      <td>Torrey</td>\n",
       "      <td>Smith</td>\n",
       "      <td>2011</td>\n",
       "      <td>-0.416667</td>\n",
       "      <td>0.090909</td>\n",
       "      <td>0.0</td>\n",
       "      <td>...</td>\n",
       "      <td>0.0</td>\n",
       "      <td>0.0</td>\n",
       "      <td>0.0</td>\n",
       "      <td>1.0</td>\n",
       "      <td>0.0</td>\n",
       "      <td>0.0</td>\n",
       "      <td>0.0</td>\n",
       "      <td>0.0</td>\n",
       "      <td>0.0</td>\n",
       "      <td>0.0</td>\n",
       "    </tr>\n",
       "    <tr>\n",
       "      <th>2</th>\n",
       "      <td>2984</td>\n",
       "      <td>TS-2300</td>\n",
       "      <td>4</td>\n",
       "      <td>11.4</td>\n",
       "      <td>Torrey</td>\n",
       "      <td>Smith</td>\n",
       "      <td>2011</td>\n",
       "      <td>0.083333</td>\n",
       "      <td>0.727273</td>\n",
       "      <td>0.0</td>\n",
       "      <td>...</td>\n",
       "      <td>0.0</td>\n",
       "      <td>0.0</td>\n",
       "      <td>0.0</td>\n",
       "      <td>0.0</td>\n",
       "      <td>1.0</td>\n",
       "      <td>0.0</td>\n",
       "      <td>0.0</td>\n",
       "      <td>0.0</td>\n",
       "      <td>0.0</td>\n",
       "      <td>0.0</td>\n",
       "    </tr>\n",
       "    <tr>\n",
       "      <th>3</th>\n",
       "      <td>3007</td>\n",
       "      <td>TS-2300</td>\n",
       "      <td>6</td>\n",
       "      <td>6.2</td>\n",
       "      <td>Torrey</td>\n",
       "      <td>Smith</td>\n",
       "      <td>2011</td>\n",
       "      <td>-0.833333</td>\n",
       "      <td>0.272727</td>\n",
       "      <td>0.0</td>\n",
       "      <td>...</td>\n",
       "      <td>0.0</td>\n",
       "      <td>0.0</td>\n",
       "      <td>0.0</td>\n",
       "      <td>0.0</td>\n",
       "      <td>0.0</td>\n",
       "      <td>0.0</td>\n",
       "      <td>1.0</td>\n",
       "      <td>0.0</td>\n",
       "      <td>0.0</td>\n",
       "      <td>0.0</td>\n",
       "    </tr>\n",
       "    <tr>\n",
       "      <th>4</th>\n",
       "      <td>3024</td>\n",
       "      <td>TS-2300</td>\n",
       "      <td>7</td>\n",
       "      <td>8.7</td>\n",
       "      <td>Torrey</td>\n",
       "      <td>Smith</td>\n",
       "      <td>2011</td>\n",
       "      <td>-0.250000</td>\n",
       "      <td>1.000000</td>\n",
       "      <td>0.0</td>\n",
       "      <td>...</td>\n",
       "      <td>0.0</td>\n",
       "      <td>0.0</td>\n",
       "      <td>0.0</td>\n",
       "      <td>0.0</td>\n",
       "      <td>0.0</td>\n",
       "      <td>0.0</td>\n",
       "      <td>0.0</td>\n",
       "      <td>1.0</td>\n",
       "      <td>0.0</td>\n",
       "      <td>0.0</td>\n",
       "    </tr>\n",
       "    <tr>\n",
       "      <th>5</th>\n",
       "      <td>3027</td>\n",
       "      <td>TS-2300</td>\n",
       "      <td>8</td>\n",
       "      <td>18.1</td>\n",
       "      <td>Torrey</td>\n",
       "      <td>Smith</td>\n",
       "      <td>2011</td>\n",
       "      <td>-0.416667</td>\n",
       "      <td>-0.500000</td>\n",
       "      <td>0.0</td>\n",
       "      <td>...</td>\n",
       "      <td>0.0</td>\n",
       "      <td>0.0</td>\n",
       "      <td>0.0</td>\n",
       "      <td>0.0</td>\n",
       "      <td>0.0</td>\n",
       "      <td>0.0</td>\n",
       "      <td>0.0</td>\n",
       "      <td>0.0</td>\n",
       "      <td>1.0</td>\n",
       "      <td>0.0</td>\n",
       "    </tr>\n",
       "    <tr>\n",
       "      <th>6</th>\n",
       "      <td>3050</td>\n",
       "      <td>TS-2300</td>\n",
       "      <td>9</td>\n",
       "      <td>7.4</td>\n",
       "      <td>Torrey</td>\n",
       "      <td>Smith</td>\n",
       "      <td>2011</td>\n",
       "      <td>-0.583333</td>\n",
       "      <td>0.272727</td>\n",
       "      <td>0.0</td>\n",
       "      <td>...</td>\n",
       "      <td>0.0</td>\n",
       "      <td>0.0</td>\n",
       "      <td>0.0</td>\n",
       "      <td>0.0</td>\n",
       "      <td>0.0</td>\n",
       "      <td>0.0</td>\n",
       "      <td>0.0</td>\n",
       "      <td>0.0</td>\n",
       "      <td>0.0</td>\n",
       "      <td>1.0</td>\n",
       "    </tr>\n",
       "    <tr>\n",
       "      <th>7</th>\n",
       "      <td>3064</td>\n",
       "      <td>TS-2300</td>\n",
       "      <td>10</td>\n",
       "      <td>31.5</td>\n",
       "      <td>Torrey</td>\n",
       "      <td>Smith</td>\n",
       "      <td>2011</td>\n",
       "      <td>-0.666667</td>\n",
       "      <td>0.272727</td>\n",
       "      <td>0.0</td>\n",
       "      <td>...</td>\n",
       "      <td>0.0</td>\n",
       "      <td>0.0</td>\n",
       "      <td>0.0</td>\n",
       "      <td>0.0</td>\n",
       "      <td>0.0</td>\n",
       "      <td>0.0</td>\n",
       "      <td>0.0</td>\n",
       "      <td>0.0</td>\n",
       "      <td>0.0</td>\n",
       "      <td>0.0</td>\n",
       "    </tr>\n",
       "    <tr>\n",
       "      <th>8</th>\n",
       "      <td>3076</td>\n",
       "      <td>TS-2300</td>\n",
       "      <td>11</td>\n",
       "      <td>4.3</td>\n",
       "      <td>Torrey</td>\n",
       "      <td>Smith</td>\n",
       "      <td>2011</td>\n",
       "      <td>-1.000000</td>\n",
       "      <td>-0.272727</td>\n",
       "      <td>0.0</td>\n",
       "      <td>...</td>\n",
       "      <td>0.0</td>\n",
       "      <td>0.0</td>\n",
       "      <td>0.0</td>\n",
       "      <td>0.0</td>\n",
       "      <td>0.0</td>\n",
       "      <td>0.0</td>\n",
       "      <td>0.0</td>\n",
       "      <td>0.0</td>\n",
       "      <td>0.0</td>\n",
       "      <td>0.0</td>\n",
       "    </tr>\n",
       "    <tr>\n",
       "      <th>9</th>\n",
       "      <td>3084</td>\n",
       "      <td>TS-2300</td>\n",
       "      <td>12</td>\n",
       "      <td>3.9</td>\n",
       "      <td>Torrey</td>\n",
       "      <td>Smith</td>\n",
       "      <td>2011</td>\n",
       "      <td>-1.083333</td>\n",
       "      <td>0.000000</td>\n",
       "      <td>0.0</td>\n",
       "      <td>...</td>\n",
       "      <td>0.0</td>\n",
       "      <td>0.0</td>\n",
       "      <td>0.0</td>\n",
       "      <td>0.0</td>\n",
       "      <td>0.0</td>\n",
       "      <td>0.0</td>\n",
       "      <td>0.0</td>\n",
       "      <td>0.0</td>\n",
       "      <td>0.0</td>\n",
       "      <td>0.0</td>\n",
       "    </tr>\n",
       "  </tbody>\n",
       "</table>\n",
       "<p>10 rows × 1527 columns</p>\n",
       "</div>"
      ],
      "text/plain": [
       "    gid   player  wk  target   fname  lname  seas        ou  imp_score  \\\n",
       "0  2929  TS-2300   1    42.2  Torrey  Smith  2011 -0.500000   0.045455   \n",
       "1  2963  TS-2300   3     1.1  Torrey  Smith  2011 -0.416667   0.090909   \n",
       "2  2984  TS-2300   4    11.4  Torrey  Smith  2011  0.083333   0.727273   \n",
       "3  3007  TS-2300   6     6.2  Torrey  Smith  2011 -0.833333   0.272727   \n",
       "4  3024  TS-2300   7     8.7  Torrey  Smith  2011 -0.250000   1.000000   \n",
       "5  3027  TS-2300   8    18.1  Torrey  Smith  2011 -0.416667  -0.500000   \n",
       "6  3050  TS-2300   9     7.4  Torrey  Smith  2011 -0.583333   0.272727   \n",
       "7  3064  TS-2300  10    31.5  Torrey  Smith  2011 -0.666667   0.272727   \n",
       "8  3076  TS-2300  11     4.3  Torrey  Smith  2011 -1.000000  -0.272727   \n",
       "9  3084  TS-2300  12     3.9  Torrey  Smith  2011 -1.083333   0.000000   \n",
       "\n",
       "   height   ...     dummy_2  dummy_20  dummy_21  dummy_3  dummy_4  dummy_5  \\\n",
       "0     0.0   ...         0.0       0.0       0.0      0.0      0.0      0.0   \n",
       "1     0.0   ...         0.0       0.0       0.0      1.0      0.0      0.0   \n",
       "2     0.0   ...         0.0       0.0       0.0      0.0      1.0      0.0   \n",
       "3     0.0   ...         0.0       0.0       0.0      0.0      0.0      0.0   \n",
       "4     0.0   ...         0.0       0.0       0.0      0.0      0.0      0.0   \n",
       "5     0.0   ...         0.0       0.0       0.0      0.0      0.0      0.0   \n",
       "6     0.0   ...         0.0       0.0       0.0      0.0      0.0      0.0   \n",
       "7     0.0   ...         0.0       0.0       0.0      0.0      0.0      0.0   \n",
       "8     0.0   ...         0.0       0.0       0.0      0.0      0.0      0.0   \n",
       "9     0.0   ...         0.0       0.0       0.0      0.0      0.0      0.0   \n",
       "\n",
       "   dummy_6  dummy_7  dummy_8  dummy_9  \n",
       "0      0.0      0.0      0.0      0.0  \n",
       "1      0.0      0.0      0.0      0.0  \n",
       "2      0.0      0.0      0.0      0.0  \n",
       "3      1.0      0.0      0.0      0.0  \n",
       "4      0.0      1.0      0.0      0.0  \n",
       "5      0.0      0.0      1.0      0.0  \n",
       "6      0.0      0.0      0.0      1.0  \n",
       "7      0.0      0.0      0.0      0.0  \n",
       "8      0.0      0.0      0.0      0.0  \n",
       "9      0.0      0.0      0.0      0.0  \n",
       "\n",
       "[10 rows x 1527 columns]"
      ]
     },
     "execution_count": 3,
     "metadata": {},
     "output_type": "execute_result"
    }
   ],
   "source": [
    "wr = process.make_feature(\"WR\", 2010, df = df)\n",
    "wr.head(10)"
   ]
  },
  {
   "cell_type": "code",
   "execution_count": 9,
   "metadata": {
    "collapsed": true
   },
   "outputs": [],
   "source": [
    "wr.to_csv(\"test.csv\")"
   ]
  },
  {
   "cell_type": "code",
   "execution_count": 12,
   "metadata": {
    "collapsed": true
   },
   "outputs": [],
   "source": [
    "#### DELETE LATER\n",
    "\n",
    "wr = pd.read_csv(\"test.csv\", low_memory=False)"
   ]
  },
  {
   "cell_type": "code",
   "execution_count": 13,
   "metadata": {
    "collapsed": false
   },
   "outputs": [],
   "source": [
    "X, y, frame = process.crop_and_separate(5, 2, wr, \"data\")"
   ]
  },
  {
   "cell_type": "markdown",
   "metadata": {},
   "source": [
    "  ### Construct a model tester loop to select the best model fit just based on default hyperparameters"
   ]
  },
  {
   "cell_type": "code",
   "execution_count": 15,
   "metadata": {
    "collapsed": false
   },
   "outputs": [],
   "source": [
    "lr = LinearRegression()\n",
    "en = ElasticNetCV(n_jobs=-1) \n",
    "svm = SVR()\n",
    "et = ExtraTreesRegressor()\n",
    "\n",
    "algos = {\"lr\":{\"model\": lr},\"en\":{\"model\": en},  \"svm\": {\"model\" : svm}, \"et\" :{\"model\": et}}"
   ]
  },
  {
   "cell_type": "code",
   "execution_count": 45,
   "metadata": {
    "collapsed": true
   },
   "outputs": [],
   "source": [
    "X_train, X_test, y_train, y_test = train_test_split(X, y, test_size=0.4, random_state = 42)\n"
   ]
  },
  {
   "cell_type": "code",
   "execution_count": 7,
   "metadata": {
    "collapsed": true
   },
   "outputs": [],
   "source": [
    "ss = ShuffleSplit(len(X), 3) #set up a random shuffler for the cross validation"
   ]
  },
  {
   "cell_type": "code",
   "execution_count": 7,
   "metadata": {
    "collapsed": false
   },
   "outputs": [
    {
     "name": "stdout",
     "output_type": "stream",
     "text": [
      "et\n",
      "en\n",
      "lr\n",
      "svm\n"
     ]
    }
   ],
   "source": [
    "for k, v in algos.iteritems():\n",
    "    print k"
   ]
  },
  {
   "cell_type": "code",
   "execution_count": 13,
   "metadata": {
    "collapsed": false
   },
   "outputs": [
    {
     "name": "stdout",
     "output_type": "stream",
     "text": [
      "1 Fri Oct 14 12:29:13 2016\n",
      "2 Fri Oct 14 12:29:43 2016\n",
      "3 Fri Oct 14 12:29:43 2016\n",
      "4 Fri Oct 14 12:30:02 2016\n",
      "5 Fri Oct 14 12:30:02 2016\n",
      "6 Fri Oct 14 12:30:02 2016\n",
      "\n",
      "finished with  Fri Oct 14 12:30:02 2016   et \n",
      "\n"
     ]
    },
    {
     "name": "stderr",
     "output_type": "stream",
     "text": [
      "/Users/egorkharakozov/anaconda/lib/python2.7/site-packages/sklearn/linear_model/coordinate_descent.py:466: ConvergenceWarning: Objective did not converge. You might want to increase the number of iterations\n",
      "  ConvergenceWarning)\n"
     ]
    },
    {
     "name": "stdout",
     "output_type": "stream",
     "text": [
      "1 Fri Oct 14 12:33:41 2016\n",
      "2 Fri Oct 14 12:34:48 2016\n",
      "3 Fri Oct 14 12:34:48 2016\n",
      "4 Fri Oct 14 12:36:18 2016\n",
      "5 Fri Oct 14 12:36:18 2016\n",
      "6 Fri Oct 14 12:36:18 2016\n",
      "\n",
      "finished with  Fri Oct 14 12:36:18 2016   en \n",
      "\n",
      "1 Fri Oct 14 12:36:24 2016\n",
      "2 Fri Oct 14 12:36:26 2016\n",
      "3 Fri Oct 14 12:36:26 2016\n",
      "4 Fri Oct 14 12:36:27 2016\n",
      "5 Fri Oct 14 12:36:28 2016\n",
      "6 Fri Oct 14 12:36:28 2016\n",
      "\n",
      "finished with  Fri Oct 14 12:36:28 2016   lr \n",
      "\n",
      "1 Fri Oct 14 12:40:40 2016\n",
      "2 Fri Oct 14 12:42:14 2016\n",
      "3 Fri Oct 14 12:43:44 2016\n",
      "4 Fri Oct 14 12:44:15 2016\n",
      "5 Fri Oct 14 12:44:36 2016\n",
      "6 Fri Oct 14 12:44:57 2016\n",
      "\n",
      "finished with  Fri Oct 14 12:44:57 2016   svm \n",
      "\n"
     ]
    }
   ],
   "source": [
    "for k, v in algos.iteritems():\n",
    "    v[\"cv_mean_r2\"] = cross_val_score(v[\"model\"], X, y, scoring = \"r2\", cv = ss).mean()\n",
    "    print \"1\" , ctime()\n",
    "    v[\"model\"].fit(X,y)\n",
    "    print \"2\" , ctime()\n",
    "    v[\"fit_r2\"] = v[\"model\"].score(X,y)\n",
    "    print \"3\", ctime()\n",
    "    v[\"model\"].fit(X_train, y_train)\n",
    "    print \"4\", ctime()\n",
    "    v[\"out_of_sample_r2\"] = v[\"model\"].score(X_test,y_test)\n",
    "    print \"5\", ctime()\n",
    "    y_pred = v[\"model\"].predict(X_test)\n",
    "    print \"6\", ctime()\n",
    "    v[\"out_of_sample_mse\"]=mean_squared_error(y_test, y_pred)\n",
    "   \n",
    "    #plt.figure(figsize=(10,8))\n",
    "    #sns.residplot(y_test, y_pred)\n",
    "    #plt.title(k+\" redisual plot\")\n",
    "    #plt.show()\n",
    "    print \"\\nfinished with \",ctime(), \" \", k,\"\\n\""
   ]
  },
  {
   "cell_type": "code",
   "execution_count": 14,
   "metadata": {
    "collapsed": false
   },
   "outputs": [
    {
     "data": {
      "text/html": [
       "<div>\n",
       "<table border=\"1\" class=\"dataframe\">\n",
       "  <thead>\n",
       "    <tr style=\"text-align: right;\">\n",
       "      <th></th>\n",
       "      <th>en</th>\n",
       "      <th>et</th>\n",
       "      <th>lr</th>\n",
       "      <th>svm</th>\n",
       "    </tr>\n",
       "  </thead>\n",
       "  <tbody>\n",
       "    <tr>\n",
       "      <th>cv_mean_r2</th>\n",
       "      <td>0.206986</td>\n",
       "      <td>0.0691183</td>\n",
       "      <td>-280591</td>\n",
       "      <td>0.0959659</td>\n",
       "    </tr>\n",
       "    <tr>\n",
       "      <th>fit_r2</th>\n",
       "      <td>0.227811</td>\n",
       "      <td>1</td>\n",
       "      <td>0.398894</td>\n",
       "      <td>0.168284</td>\n",
       "    </tr>\n",
       "    <tr>\n",
       "      <th>model</th>\n",
       "      <td>ElasticNetCV(alphas=None, copy_X=True, cv=None...</td>\n",
       "      <td>(ExtraTreeRegressor(criterion='mse', max_depth...</td>\n",
       "      <td>LinearRegression(copy_X=True, fit_intercept=Tr...</td>\n",
       "      <td>SVR(C=1.0, cache_size=200, coef0=0.0, degree=3...</td>\n",
       "    </tr>\n",
       "    <tr>\n",
       "      <th>out_of_sample_mse</th>\n",
       "      <td>64.0893</td>\n",
       "      <td>70.4844</td>\n",
       "      <td>3.12494e+20</td>\n",
       "      <td>75.1253</td>\n",
       "    </tr>\n",
       "    <tr>\n",
       "      <th>out_of_sample_r2</th>\n",
       "      <td>0.214119</td>\n",
       "      <td>0.1357</td>\n",
       "      <td>-3.83189e+18</td>\n",
       "      <td>0.078791</td>\n",
       "    </tr>\n",
       "  </tbody>\n",
       "</table>\n",
       "</div>"
      ],
      "text/plain": [
       "                                                                  en  \\\n",
       "cv_mean_r2                                                  0.206986   \n",
       "fit_r2                                                      0.227811   \n",
       "model              ElasticNetCV(alphas=None, copy_X=True, cv=None...   \n",
       "out_of_sample_mse                                            64.0893   \n",
       "out_of_sample_r2                                            0.214119   \n",
       "\n",
       "                                                                  et  \\\n",
       "cv_mean_r2                                                 0.0691183   \n",
       "fit_r2                                                             1   \n",
       "model              (ExtraTreeRegressor(criterion='mse', max_depth...   \n",
       "out_of_sample_mse                                            70.4844   \n",
       "out_of_sample_r2                                              0.1357   \n",
       "\n",
       "                                                                  lr  \\\n",
       "cv_mean_r2                                                   -280591   \n",
       "fit_r2                                                      0.398894   \n",
       "model              LinearRegression(copy_X=True, fit_intercept=Tr...   \n",
       "out_of_sample_mse                                        3.12494e+20   \n",
       "out_of_sample_r2                                        -3.83189e+18   \n",
       "\n",
       "                                                                 svm  \n",
       "cv_mean_r2                                                 0.0959659  \n",
       "fit_r2                                                      0.168284  \n",
       "model              SVR(C=1.0, cache_size=200, coef0=0.0, degree=3...  \n",
       "out_of_sample_mse                                            75.1253  \n",
       "out_of_sample_r2                                            0.078791  "
      ]
     },
     "execution_count": 14,
     "metadata": {},
     "output_type": "execute_result"
    }
   ],
   "source": [
    "pd.DataFrame(algos)"
   ]
  },
  {
   "cell_type": "markdown",
   "metadata": {},
   "source": [
    "### Looks like a regularized linear regression model yields already pretty good results. To be rigorous I will gridsearch ET model to finetune parameters given that by default it overfits without a depth cutoff since (r2 =1)"
   ]
  },
  {
   "cell_type": "code",
   "execution_count": 76,
   "metadata": {
    "collapsed": false
   },
   "outputs": [],
   "source": [
    "et2 = ExtraTreesRegressor(warm_start=True, n_jobs=-1)\n",
    "\n",
    "params = {\"max_depth\": [10,20,50,100, 1000],\n",
    "          \"min_samples_leaf\": [1, 5, 10, 20],\n",
    "          \"min_weight_fraction_leaf\": list(np.logspace(-3,-2,3))+[0]\n",
    "         }\n",
    "    \n",
    "\n",
    "gset2 = GridSearchCV(et2, params, cv=ss, n_jobs=-1)"
   ]
  },
  {
   "cell_type": "code",
   "execution_count": 77,
   "metadata": {
    "collapsed": false
   },
   "outputs": [
    {
     "data": {
      "text/plain": [
       "GridSearchCV(cv=ShuffleSplit(7823, n_iter=3, test_size=0.1, random_state=None),\n",
       "       error_score='raise',\n",
       "       estimator=ExtraTreesRegressor(bootstrap=False, criterion='mse', max_depth=None,\n",
       "          max_features='auto', max_leaf_nodes=None, min_samples_leaf=1,\n",
       "          min_samples_split=2, min_weight_fraction_leaf=0.0,\n",
       "          n_estimators=10, n_jobs=-1, oob_score=False, random_state=None,\n",
       "          verbose=0, warm_start=True),\n",
       "       fit_params={}, iid=True, n_jobs=-1,\n",
       "       param_grid={'min_weight_fraction_leaf': [0.001, 0.0031622776601683794, 0.01, 0], 'max_depth': [10, 20, 50, 100, 1000], 'min_samples_leaf': [1, 5, 10, 20]},\n",
       "       pre_dispatch='2*n_jobs', refit=True, scoring=None, verbose=0)"
      ]
     },
     "execution_count": 77,
     "metadata": {},
     "output_type": "execute_result"
    }
   ],
   "source": [
    "gset2.fit(X,y)"
   ]
  },
  {
   "cell_type": "code",
   "execution_count": 80,
   "metadata": {
    "collapsed": false
   },
   "outputs": [
    {
     "data": {
      "text/plain": [
       "0.19176446524364207"
      ]
     },
     "execution_count": 80,
     "metadata": {},
     "output_type": "execute_result"
    }
   ],
   "source": [
    "cross_val_score(gset2.best_estimator_, X, y, cv = ss, n_jobs=-1).mean()"
   ]
  },
  {
   "cell_type": "code",
   "execution_count": 81,
   "metadata": {
    "collapsed": false
   },
   "outputs": [
    {
     "data": {
      "text/plain": [
       "{'max_depth': 10, 'min_samples_leaf': 20, 'min_weight_fraction_leaf': 0.01}"
      ]
     },
     "execution_count": 81,
     "metadata": {},
     "output_type": "execute_result"
    }
   ],
   "source": [
    "gset2.best_params_"
   ]
  },
  {
   "cell_type": "markdown",
   "metadata": {},
   "source": [
    "### another gridsearch since the parameters were at the edges of our search"
   ]
  },
  {
   "cell_type": "code",
   "execution_count": 110,
   "metadata": {
    "collapsed": true
   },
   "outputs": [],
   "source": [
    "et3 = ExtraTreesRegressor(warm_start=True, n_jobs=-1)\n",
    "\n",
    "params = {\"max_depth\": [7,10,11,12,14,20],\n",
    "          \"min_samples_leaf\": [15,20,30,35,40],\n",
    "          \"min_weight_fraction_leaf\": list(np.logspace(-1,-.31,6))\n",
    "         }\n",
    "    \n",
    "\n",
    "gset3 = GridSearchCV(et2, params, cv=ss, n_jobs=-1)"
   ]
  },
  {
   "cell_type": "code",
   "execution_count": 111,
   "metadata": {
    "collapsed": false
   },
   "outputs": [
    {
     "data": {
      "text/plain": [
       "GridSearchCV(cv=ShuffleSplit(7823, n_iter=3, test_size=0.1, random_state=None),\n",
       "       error_score='raise',\n",
       "       estimator=ExtraTreesRegressor(bootstrap=False, criterion='mse', max_depth=None,\n",
       "          max_features='auto', max_leaf_nodes=None, min_samples_leaf=1,\n",
       "          min_samples_split=2, min_weight_fraction_leaf=0.0,\n",
       "          n_estimators=10, n_jobs=-1, oob_score=False, random_state=None,\n",
       "          verbose=0, warm_start=True),\n",
       "       fit_params={}, iid=True, n_jobs=-1,\n",
       "       param_grid={'min_weight_fraction_leaf': [0.10000000000000001, 0.13740419750125152, 0.18879913490962935, 0.25941793621188136, 0.35645113342624418, 0.48977881936844619], 'max_depth': [7, 10, 11, 12, 14, 20], 'min_samples_leaf': [15, 20, 30, 35, 40]},\n",
       "       pre_dispatch='2*n_jobs', refit=True, scoring=None, verbose=0)"
      ]
     },
     "execution_count": 111,
     "metadata": {},
     "output_type": "execute_result"
    }
   ],
   "source": [
    "gset3.fit(X,y)"
   ]
  },
  {
   "cell_type": "code",
   "execution_count": 112,
   "metadata": {
    "collapsed": false
   },
   "outputs": [
    {
     "data": {
      "text/plain": [
       "{'max_depth': 7,\n",
       " 'min_samples_leaf': 30,\n",
       " 'min_weight_fraction_leaf': 0.13740419750125152}"
      ]
     },
     "execution_count": 112,
     "metadata": {},
     "output_type": "execute_result"
    }
   ],
   "source": [
    "gset3.best_params_"
   ]
  },
  {
   "cell_type": "code",
   "execution_count": 113,
   "metadata": {
    "collapsed": false
   },
   "outputs": [
    {
     "data": {
      "text/plain": [
       "0.24113061471969369"
      ]
     },
     "execution_count": 113,
     "metadata": {},
     "output_type": "execute_result"
    }
   ],
   "source": [
    "cross_val_score(gset3.best_estimator_, X, y, cv = ss, n_jobs=-1).mean()"
   ]
  },
  {
   "cell_type": "markdown",
   "metadata": {},
   "source": [
    "## Looks like both the random forest and the linear regression models give similiar mean cross validation results. One more test to look at stdev of CV for both the ElasticNet and the RF models"
   ]
  },
  {
   "cell_type": "code",
   "execution_count": 26,
   "metadata": {
    "collapsed": true
   },
   "outputs": [],
   "source": [
    "ss2 = ShuffleSplit(len(X), 7)"
   ]
  },
  {
   "cell_type": "code",
   "execution_count": 25,
   "metadata": {
    "collapsed": true
   },
   "outputs": [],
   "source": [
    "et4 = ExtraTreesRegressor(max_depth=7,\n",
    "                          min_samples_leaf= 30, \n",
    "                          min_weight_fraction_leaf=0.13740419750125152, \n",
    "                          n_estimators=50, n_jobs = -1)"
   ]
  },
  {
   "cell_type": "code",
   "execution_count": 118,
   "metadata": {
    "collapsed": false
   },
   "outputs": [
    {
     "name": "stdout",
     "output_type": "stream",
     "text": [
      "0.207048307765\n",
      "0.0203531030349\n"
     ]
    }
   ],
   "source": [
    "print cross_val_score(gset3.best_estimator_, X, y, cv = ss2, n_jobs=-1).mean()\n",
    "print cross_val_score(gset3.best_estimator_, X, y, cv = ss2, n_jobs=-1).std()"
   ]
  },
  {
   "cell_type": "code",
   "execution_count": 10,
   "metadata": {
    "collapsed": false
   },
   "outputs": [
    {
     "name": "stdout",
     "output_type": "stream",
     "text": [
      "0.216162155506\n",
      "0.0116018173201\n"
     ]
    }
   ],
   "source": [
    "print cross_val_score(et4, X, y, cv = ss2, n_jobs=-1).mean()\n",
    "print cross_val_score(et4, X, y, cv = ss2, n_jobs=-1).std()"
   ]
  },
  {
   "cell_type": "code",
   "execution_count": 23,
   "metadata": {
    "collapsed": false
   },
   "outputs": [],
   "source": [
    "ss3 = ShuffleSplit(len(X[mask]),5)\n",
    "en2 = ElasticNetCV(n_jobs=-1, cv = ss3)\n"
   ]
  },
  {
   "cell_type": "markdown",
   "metadata": {},
   "source": [
    "\n",
    "#### the things we do for a few bps of r2... given that RF runs considerably faster than elastic net, and for my implementation I will refit the model in an iterative manner I will stick with the RF model when I make the predictions for the past few seasons."
   ]
  },
  {
   "cell_type": "markdown",
   "metadata": {},
   "source": [
    "## But first I should just test both predictors for reasonability"
   ]
  },
  {
   "cell_type": "code",
   "execution_count": 24,
   "metadata": {
    "collapsed": true
   },
   "outputs": [],
   "source": [
    "test_df = frame"
   ]
  },
  {
   "cell_type": "code",
   "execution_count": 25,
   "metadata": {
    "collapsed": false
   },
   "outputs": [],
   "source": [
    "#lets test out of sample on Deandre Hopkins (picked at random) So train on all of the data except for his games\n",
    "#and then predict his games\n",
    "\n",
    "mask = (test_df.player != \"DH-3950\")\n",
    "\n",
    "et4.fit(X[mask],y[mask])\n",
    "\n",
    "y_pred = et4.predict(X)\n"
   ]
  },
  {
   "cell_type": "code",
   "execution_count": 26,
   "metadata": {
    "collapsed": false
   },
   "outputs": [
    {
     "name": "stderr",
     "output_type": "stream",
     "text": [
      "/Users/egorkharakozov/anaconda/lib/python2.7/site-packages/sklearn/linear_model/coordinate_descent.py:466: ConvergenceWarning: Objective did not converge. You might want to increase the number of iterations\n",
      "  ConvergenceWarning)\n"
     ]
    }
   ],
   "source": [
    "en2.fit(X[mask],y[mask])\n",
    "\n",
    "y_pred2 = en2.predict(X)"
   ]
  },
  {
   "cell_type": "code",
   "execution_count": 27,
   "metadata": {
    "collapsed": true
   },
   "outputs": [],
   "source": [
    "####ADD IN LINEAR AS A \"NAIVE\" MODEL\n",
    "\n",
    "linreg = LinearRegression()\n",
    "\n",
    "linreg.fit(X[mask],y[mask])\n",
    "y_pred3 = linreg.predict(X)"
   ]
  },
  {
   "cell_type": "code",
   "execution_count": null,
   "metadata": {
    "collapsed": true
   },
   "outputs": [],
   "source": []
  },
  {
   "cell_type": "code",
   "execution_count": 28,
   "metadata": {
    "collapsed": false
   },
   "outputs": [],
   "source": [
    "test_df[\"pred\"] = y_pred\n",
    "test_df[\"pred2\"] = y_pred2\n",
    "test_df[\"pred3\"] = y_pred3"
   ]
  },
  {
   "cell_type": "code",
   "execution_count": 29,
   "metadata": {
    "collapsed": true
   },
   "outputs": [],
   "source": [
    "dhop = test_df[test_df.player == \"DH-3950\"]"
   ]
  },
  {
   "cell_type": "code",
   "execution_count": 30,
   "metadata": {
    "collapsed": false
   },
   "outputs": [
    {
     "data": {
      "text/html": [
       "<div>\n",
       "<table border=\"1\" class=\"dataframe\">\n",
       "  <thead>\n",
       "    <tr style=\"text-align: right;\">\n",
       "      <th></th>\n",
       "      <th>gid</th>\n",
       "      <th>player</th>\n",
       "      <th>wk</th>\n",
       "      <th>target</th>\n",
       "      <th>fname</th>\n",
       "      <th>lname</th>\n",
       "      <th>seas</th>\n",
       "      <th>ou</th>\n",
       "      <th>imp_score</th>\n",
       "      <th>height</th>\n",
       "      <th>...</th>\n",
       "      <th>dummy_3</th>\n",
       "      <th>dummy_4</th>\n",
       "      <th>dummy_5</th>\n",
       "      <th>dummy_6</th>\n",
       "      <th>dummy_7</th>\n",
       "      <th>dummy_8</th>\n",
       "      <th>dummy_9</th>\n",
       "      <th>pred</th>\n",
       "      <th>pred2</th>\n",
       "      <th>pred3</th>\n",
       "    </tr>\n",
       "  </thead>\n",
       "  <tbody>\n",
       "    <tr>\n",
       "      <th>11138</th>\n",
       "      <td>4172</td>\n",
       "      <td>DH-3950</td>\n",
       "      <td>13</td>\n",
       "      <td>8.2</td>\n",
       "      <td>DeAndre</td>\n",
       "      <td>Hopkins</td>\n",
       "      <td>2015</td>\n",
       "      <td>0.083333</td>\n",
       "      <td>-0.272727</td>\n",
       "      <td>0.0</td>\n",
       "      <td>...</td>\n",
       "      <td>0.0</td>\n",
       "      <td>0.0</td>\n",
       "      <td>0.0</td>\n",
       "      <td>0.0</td>\n",
       "      <td>0.0</td>\n",
       "      <td>0.0</td>\n",
       "      <td>0.0</td>\n",
       "      <td>17.657356</td>\n",
       "      <td>17.481003</td>\n",
       "      <td>14.028809</td>\n",
       "    </tr>\n",
       "    <tr>\n",
       "      <th>11139</th>\n",
       "      <td>4196</td>\n",
       "      <td>DH-3950</td>\n",
       "      <td>14</td>\n",
       "      <td>17.4</td>\n",
       "      <td>DeAndre</td>\n",
       "      <td>Hopkins</td>\n",
       "      <td>2015</td>\n",
       "      <td>-0.416667</td>\n",
       "      <td>-0.409091</td>\n",
       "      <td>0.0</td>\n",
       "      <td>...</td>\n",
       "      <td>0.0</td>\n",
       "      <td>0.0</td>\n",
       "      <td>0.0</td>\n",
       "      <td>0.0</td>\n",
       "      <td>0.0</td>\n",
       "      <td>0.0</td>\n",
       "      <td>0.0</td>\n",
       "      <td>16.708897</td>\n",
       "      <td>16.991018</td>\n",
       "      <td>14.211487</td>\n",
       "    </tr>\n",
       "    <tr>\n",
       "      <th>11140</th>\n",
       "      <td>4202</td>\n",
       "      <td>DH-3950</td>\n",
       "      <td>15</td>\n",
       "      <td>27.7</td>\n",
       "      <td>DeAndre</td>\n",
       "      <td>Hopkins</td>\n",
       "      <td>2015</td>\n",
       "      <td>-0.666667</td>\n",
       "      <td>-0.045455</td>\n",
       "      <td>0.0</td>\n",
       "      <td>...</td>\n",
       "      <td>0.0</td>\n",
       "      <td>0.0</td>\n",
       "      <td>0.0</td>\n",
       "      <td>0.0</td>\n",
       "      <td>0.0</td>\n",
       "      <td>0.0</td>\n",
       "      <td>0.0</td>\n",
       "      <td>16.645831</td>\n",
       "      <td>17.731869</td>\n",
       "      <td>17.039612</td>\n",
       "    </tr>\n",
       "    <tr>\n",
       "      <th>11141</th>\n",
       "      <td>4217</td>\n",
       "      <td>DH-3950</td>\n",
       "      <td>16</td>\n",
       "      <td>15.9</td>\n",
       "      <td>DeAndre</td>\n",
       "      <td>Hopkins</td>\n",
       "      <td>2015</td>\n",
       "      <td>0.166667</td>\n",
       "      <td>0.681818</td>\n",
       "      <td>0.0</td>\n",
       "      <td>...</td>\n",
       "      <td>0.0</td>\n",
       "      <td>0.0</td>\n",
       "      <td>0.0</td>\n",
       "      <td>0.0</td>\n",
       "      <td>0.0</td>\n",
       "      <td>0.0</td>\n",
       "      <td>0.0</td>\n",
       "      <td>17.220547</td>\n",
       "      <td>18.726192</td>\n",
       "      <td>17.415375</td>\n",
       "    </tr>\n",
       "    <tr>\n",
       "      <th>11142</th>\n",
       "      <td>4235</td>\n",
       "      <td>DH-3950</td>\n",
       "      <td>17</td>\n",
       "      <td>12.9</td>\n",
       "      <td>DeAndre</td>\n",
       "      <td>Hopkins</td>\n",
       "      <td>2015</td>\n",
       "      <td>-0.750000</td>\n",
       "      <td>-0.727273</td>\n",
       "      <td>0.0</td>\n",
       "      <td>...</td>\n",
       "      <td>0.0</td>\n",
       "      <td>0.0</td>\n",
       "      <td>0.0</td>\n",
       "      <td>0.0</td>\n",
       "      <td>0.0</td>\n",
       "      <td>0.0</td>\n",
       "      <td>0.0</td>\n",
       "      <td>16.552628</td>\n",
       "      <td>18.556446</td>\n",
       "      <td>13.487274</td>\n",
       "    </tr>\n",
       "  </tbody>\n",
       "</table>\n",
       "<p>5 rows × 1530 columns</p>\n",
       "</div>"
      ],
      "text/plain": [
       "        gid   player  wk  target    fname    lname  seas        ou  imp_score  \\\n",
       "11138  4172  DH-3950  13     8.2  DeAndre  Hopkins  2015  0.083333  -0.272727   \n",
       "11139  4196  DH-3950  14    17.4  DeAndre  Hopkins  2015 -0.416667  -0.409091   \n",
       "11140  4202  DH-3950  15    27.7  DeAndre  Hopkins  2015 -0.666667  -0.045455   \n",
       "11141  4217  DH-3950  16    15.9  DeAndre  Hopkins  2015  0.166667   0.681818   \n",
       "11142  4235  DH-3950  17    12.9  DeAndre  Hopkins  2015 -0.750000  -0.727273   \n",
       "\n",
       "       height    ...      dummy_3  dummy_4  dummy_5  dummy_6  dummy_7  \\\n",
       "11138     0.0    ...          0.0      0.0      0.0      0.0      0.0   \n",
       "11139     0.0    ...          0.0      0.0      0.0      0.0      0.0   \n",
       "11140     0.0    ...          0.0      0.0      0.0      0.0      0.0   \n",
       "11141     0.0    ...          0.0      0.0      0.0      0.0      0.0   \n",
       "11142     0.0    ...          0.0      0.0      0.0      0.0      0.0   \n",
       "\n",
       "       dummy_8  dummy_9       pred      pred2      pred3  \n",
       "11138      0.0      0.0  17.657356  17.481003  14.028809  \n",
       "11139      0.0      0.0  16.708897  16.991018  14.211487  \n",
       "11140      0.0      0.0  16.645831  17.731869  17.039612  \n",
       "11141      0.0      0.0  17.220547  18.726192  17.415375  \n",
       "11142      0.0      0.0  16.552628  18.556446  13.487274  \n",
       "\n",
       "[5 rows x 1530 columns]"
      ]
     },
     "execution_count": 30,
     "metadata": {},
     "output_type": "execute_result"
    }
   ],
   "source": [
    "test_df.tail()"
   ]
  },
  {
   "cell_type": "code",
   "execution_count": 31,
   "metadata": {
    "collapsed": false
   },
   "outputs": [
    {
     "data": {
      "text/html": [
       "<div>\n",
       "<table border=\"1\" class=\"dataframe\">\n",
       "  <thead>\n",
       "    <tr style=\"text-align: right;\">\n",
       "      <th></th>\n",
       "      <th>gid</th>\n",
       "      <th>player</th>\n",
       "      <th>wk</th>\n",
       "      <th>target</th>\n",
       "      <th>fname</th>\n",
       "      <th>lname</th>\n",
       "      <th>seas</th>\n",
       "      <th>ou</th>\n",
       "      <th>imp_score</th>\n",
       "      <th>height</th>\n",
       "      <th>...</th>\n",
       "      <th>dummy_3</th>\n",
       "      <th>dummy_4</th>\n",
       "      <th>dummy_5</th>\n",
       "      <th>dummy_6</th>\n",
       "      <th>dummy_7</th>\n",
       "      <th>dummy_8</th>\n",
       "      <th>dummy_9</th>\n",
       "      <th>pred</th>\n",
       "      <th>pred2</th>\n",
       "      <th>pred3</th>\n",
       "    </tr>\n",
       "  </thead>\n",
       "  <tbody>\n",
       "    <tr>\n",
       "      <th>11095</th>\n",
       "      <td>3471</td>\n",
       "      <td>DH-3950</td>\n",
       "      <td>1</td>\n",
       "      <td>27.7</td>\n",
       "      <td>DeAndre</td>\n",
       "      <td>Hopkins</td>\n",
       "      <td>2013</td>\n",
       "      <td>-0.250000</td>\n",
       "      <td>0.727273</td>\n",
       "      <td>0.0</td>\n",
       "      <td>...</td>\n",
       "      <td>0.0</td>\n",
       "      <td>0.0</td>\n",
       "      <td>0.0</td>\n",
       "      <td>0.0</td>\n",
       "      <td>0.0</td>\n",
       "      <td>0.0</td>\n",
       "      <td>0.0</td>\n",
       "      <td>14.631141</td>\n",
       "      <td>14.568597</td>\n",
       "      <td>18.226013</td>\n",
       "    </tr>\n",
       "    <tr>\n",
       "      <th>11096</th>\n",
       "      <td>3476</td>\n",
       "      <td>DH-3950</td>\n",
       "      <td>2</td>\n",
       "      <td>12.0</td>\n",
       "      <td>DeAndre</td>\n",
       "      <td>Hopkins</td>\n",
       "      <td>2013</td>\n",
       "      <td>0.000000</td>\n",
       "      <td>0.227273</td>\n",
       "      <td>0.0</td>\n",
       "      <td>...</td>\n",
       "      <td>0.0</td>\n",
       "      <td>0.0</td>\n",
       "      <td>0.0</td>\n",
       "      <td>0.0</td>\n",
       "      <td>0.0</td>\n",
       "      <td>0.0</td>\n",
       "      <td>0.0</td>\n",
       "      <td>17.087971</td>\n",
       "      <td>18.023894</td>\n",
       "      <td>15.387390</td>\n",
       "    </tr>\n",
       "    <tr>\n",
       "      <th>11097</th>\n",
       "      <td>3493</td>\n",
       "      <td>DH-3950</td>\n",
       "      <td>3</td>\n",
       "      <td>4.7</td>\n",
       "      <td>DeAndre</td>\n",
       "      <td>Hopkins</td>\n",
       "      <td>2013</td>\n",
       "      <td>-0.500000</td>\n",
       "      <td>-0.363636</td>\n",
       "      <td>0.0</td>\n",
       "      <td>...</td>\n",
       "      <td>1.0</td>\n",
       "      <td>0.0</td>\n",
       "      <td>0.0</td>\n",
       "      <td>0.0</td>\n",
       "      <td>0.0</td>\n",
       "      <td>0.0</td>\n",
       "      <td>0.0</td>\n",
       "      <td>16.403904</td>\n",
       "      <td>15.721163</td>\n",
       "      <td>16.556396</td>\n",
       "    </tr>\n",
       "    <tr>\n",
       "      <th>11098</th>\n",
       "      <td>3507</td>\n",
       "      <td>DH-3950</td>\n",
       "      <td>4</td>\n",
       "      <td>4.3</td>\n",
       "      <td>DeAndre</td>\n",
       "      <td>Hopkins</td>\n",
       "      <td>2013</td>\n",
       "      <td>-0.500000</td>\n",
       "      <td>-0.818182</td>\n",
       "      <td>0.0</td>\n",
       "      <td>...</td>\n",
       "      <td>0.0</td>\n",
       "      <td>1.0</td>\n",
       "      <td>0.0</td>\n",
       "      <td>0.0</td>\n",
       "      <td>0.0</td>\n",
       "      <td>0.0</td>\n",
       "      <td>0.0</td>\n",
       "      <td>14.066644</td>\n",
       "      <td>13.695945</td>\n",
       "      <td>12.080444</td>\n",
       "    </tr>\n",
       "    <tr>\n",
       "      <th>11099</th>\n",
       "      <td>3530</td>\n",
       "      <td>DH-3950</td>\n",
       "      <td>5</td>\n",
       "      <td>6.7</td>\n",
       "      <td>DeAndre</td>\n",
       "      <td>Hopkins</td>\n",
       "      <td>2013</td>\n",
       "      <td>-0.416667</td>\n",
       "      <td>0.454545</td>\n",
       "      <td>0.0</td>\n",
       "      <td>...</td>\n",
       "      <td>0.0</td>\n",
       "      <td>0.0</td>\n",
       "      <td>1.0</td>\n",
       "      <td>0.0</td>\n",
       "      <td>0.0</td>\n",
       "      <td>0.0</td>\n",
       "      <td>0.0</td>\n",
       "      <td>14.121994</td>\n",
       "      <td>12.637655</td>\n",
       "      <td>18.493195</td>\n",
       "    </tr>\n",
       "  </tbody>\n",
       "</table>\n",
       "<p>5 rows × 1530 columns</p>\n",
       "</div>"
      ],
      "text/plain": [
       "        gid   player  wk  target    fname    lname  seas        ou  imp_score  \\\n",
       "11095  3471  DH-3950   1    27.7  DeAndre  Hopkins  2013 -0.250000   0.727273   \n",
       "11096  3476  DH-3950   2    12.0  DeAndre  Hopkins  2013  0.000000   0.227273   \n",
       "11097  3493  DH-3950   3     4.7  DeAndre  Hopkins  2013 -0.500000  -0.363636   \n",
       "11098  3507  DH-3950   4     4.3  DeAndre  Hopkins  2013 -0.500000  -0.818182   \n",
       "11099  3530  DH-3950   5     6.7  DeAndre  Hopkins  2013 -0.416667   0.454545   \n",
       "\n",
       "       height    ...      dummy_3  dummy_4  dummy_5  dummy_6  dummy_7  \\\n",
       "11095     0.0    ...          0.0      0.0      0.0      0.0      0.0   \n",
       "11096     0.0    ...          0.0      0.0      0.0      0.0      0.0   \n",
       "11097     0.0    ...          1.0      0.0      0.0      0.0      0.0   \n",
       "11098     0.0    ...          0.0      1.0      0.0      0.0      0.0   \n",
       "11099     0.0    ...          0.0      0.0      1.0      0.0      0.0   \n",
       "\n",
       "       dummy_8  dummy_9       pred      pred2      pred3  \n",
       "11095      0.0      0.0  14.631141  14.568597  18.226013  \n",
       "11096      0.0      0.0  17.087971  18.023894  15.387390  \n",
       "11097      0.0      0.0  16.403904  15.721163  16.556396  \n",
       "11098      0.0      0.0  14.066644  13.695945  12.080444  \n",
       "11099      0.0      0.0  14.121994  12.637655  18.493195  \n",
       "\n",
       "[5 rows x 1530 columns]"
      ]
     },
     "execution_count": 31,
     "metadata": {},
     "output_type": "execute_result"
    }
   ],
   "source": [
    "dhop.head(5)"
   ]
  },
  {
   "cell_type": "code",
   "execution_count": 32,
   "metadata": {
    "collapsed": false
   },
   "outputs": [
    {
     "name": "stdout",
     "output_type": "stream",
     "text": [
      "[[ 1.          0.32503076]\n",
      " [ 0.32503076  1.        ]] 0.0918460902892\n",
      "[[ 1.          0.31877344]\n",
      " [ 0.31877344  1.        ]] 0.0996101447204\n",
      "[[ 1.          0.17571864]\n",
      " [ 0.17571864  1.        ]] -0.0784091615336\n"
     ]
    },
    {
     "data": {
      "image/png": "[encoded data removed]",
      "text/plain": [
       "<matplotlib.figure.Figure at 0x119ee2210>"
      ]
     },
     "metadata": {},
     "output_type": "display_data"
    }
   ],
   "source": [
    "plt.figure(figsize=(10,8))\n",
    "plt.tick_params()\n",
    "plt.plot(dhop.target, c= \"b\", label = \"actual\")\n",
    "plt.plot(dhop.pred, c = \"r\", label = \"predicted_RF\")\n",
    "plt.plot(dhop.pred2, c = \"g\", label = \"predicted_EN\")\n",
    "plt.plot(dhop.pred3, c = \"k\", label = \"predicted_LR\")\n",
    "plt.legend([\"actual\", \"predicted_RF\", \"predicted_EN\", \"predicted_LR\"])\n",
    "plt.title(\"DHOP FP\")\n",
    "\n",
    "\n",
    "print np.corrcoef(dhop.target, dhop.pred), r2_score(dhop.target, dhop.pred)\n",
    "print np.corrcoef(dhop.target, dhop.pred2), r2_score(dhop.target, dhop.pred2)\n",
    "print np.corrcoef(dhop.target, dhop.pred3), r2_score(dhop.target, dhop.pred3)"
   ]
  },
  {
   "cell_type": "markdown",
   "metadata": {},
   "source": [
    "### as in the cross val findings, the RF and EN give similiar ressults here whereas LR has much higher variance but not great accuracy. "
   ]
  },
  {
   "cell_type": "code",
   "execution_count": 41,
   "metadata": {
    "collapsed": false
   },
   "outputs": [
    {
     "data": {
      "text/plain": [
       "<matplotlib.text.Text at 0x11d3849d0>"
      ]
     },
     "execution_count": 41,
     "metadata": {},
     "output_type": "execute_result"
    },
    {
     "data": {
      "image/png": "[encoded data removed]",
      "text/plain": [
       "<matplotlib.figure.Figure at 0x11b90c1d0>"
      ]
     },
     "metadata": {},
     "output_type": "display_data"
    }
   ],
   "source": [
    "plt.figure(figsize=(10,8))\n",
    "sns.residplot(test_df.target, y_pred, lowess=1)\n",
    "plt.title(\"Residual Plot\")\n"
   ]
  },
  {
   "cell_type": "code",
   "execution_count": 66,
   "metadata": {
    "collapsed": false
   },
   "outputs": [
    {
     "name": "stdout",
     "output_type": "stream",
     "text": [
      "(7823, 2)\n",
      "(7823,)\n"
     ]
    },
    {
     "data": {
      "text/plain": [
       "pandas.core.frame.DataFrame"
      ]
     },
     "execution_count": 66,
     "metadata": {},
     "output_type": "execute_result"
    }
   ],
   "source": [
    "print np.shape(add_constant(test_df.target))\n",
    "print np.shape(y_pred)\n"
   ]
  },
  {
   "cell_type": "code",
   "execution_count": null,
   "metadata": {
    "collapsed": true
   },
   "outputs": [],
   "source": []
  },
  {
   "cell_type": "code",
   "execution_count": 70,
   "metadata": {
    "collapsed": false
   },
   "outputs": [
    {
     "data": {
      "text/html": [
       "<table class=\"simpletable\">\n",
       "<caption>OLS Regression Results</caption>\n",
       "<tr>\n",
       "  <th>Dep. Variable:</th>            <td>y</td>        <th>  R-squared:         </th> <td>   0.362</td> \n",
       "</tr>\n",
       "<tr>\n",
       "  <th>Model:</th>                   <td>OLS</td>       <th>  Adj. R-squared:    </th> <td>   0.362</td> \n",
       "</tr>\n",
       "<tr>\n",
       "  <th>Method:</th>             <td>Least Squares</td>  <th>  F-statistic:       </th> <td>   4446.</td> \n",
       "</tr>\n",
       "<tr>\n",
       "  <th>Date:</th>             <td>Sat, 15 Oct 2016</td> <th>  Prob (F-statistic):</th>  <td>  0.00</td>  \n",
       "</tr>\n",
       "<tr>\n",
       "  <th>Time:</th>                 <td>17:25:19</td>     <th>  Log-Likelihood:    </th> <td> -20368.</td> \n",
       "</tr>\n",
       "<tr>\n",
       "  <th>No. Observations:</th>      <td>  7823</td>      <th>  AIC:               </th> <td>4.074e+04</td>\n",
       "</tr>\n",
       "<tr>\n",
       "  <th>Df Residuals:</th>          <td>  7821</td>      <th>  BIC:               </th> <td>4.075e+04</td>\n",
       "</tr>\n",
       "<tr>\n",
       "  <th>Df Model:</th>              <td>     1</td>      <th>                     </th>     <td> </td>    \n",
       "</tr>\n",
       "<tr>\n",
       "  <th>Covariance Type:</th>      <td>nonrobust</td>    <th>                     </th>     <td> </td>    \n",
       "</tr>\n",
       "</table>\n",
       "<table class=\"simpletable\">\n",
       "<tr>\n",
       "     <td></td>       <th>coef</th>     <th>std err</th>      <th>t</th>      <th>P>|t|</th> <th>[95.0% Conf. Int.]</th> \n",
       "</tr>\n",
       "<tr>\n",
       "  <th>const</th>  <td>    7.7685</td> <td>    0.058</td> <td>  134.287</td> <td> 0.000</td> <td>    7.655     7.882</td>\n",
       "</tr>\n",
       "<tr>\n",
       "  <th>target</th> <td>    0.2762</td> <td>    0.004</td> <td>   66.676</td> <td> 0.000</td> <td>    0.268     0.284</td>\n",
       "</tr>\n",
       "</table>\n",
       "<table class=\"simpletable\">\n",
       "<tr>\n",
       "  <th>Omnibus:</th>       <td>246.213</td> <th>  Durbin-Watson:     </th> <td>   0.719</td>\n",
       "</tr>\n",
       "<tr>\n",
       "  <th>Prob(Omnibus):</th> <td> 0.000</td>  <th>  Jarque-Bera (JB):  </th> <td> 267.470</td>\n",
       "</tr>\n",
       "<tr>\n",
       "  <th>Skew:</th>          <td> 0.447</td>  <th>  Prob(JB):          </th> <td>8.31e-59</td>\n",
       "</tr>\n",
       "<tr>\n",
       "  <th>Kurtosis:</th>      <td> 2.859</td>  <th>  Cond. No.          </th> <td>    21.9</td>\n",
       "</tr>\n",
       "</table>"
      ],
      "text/plain": [
       "<class 'statsmodels.iolib.summary.Summary'>\n",
       "\"\"\"\n",
       "                            OLS Regression Results                            \n",
       "==============================================================================\n",
       "Dep. Variable:                      y   R-squared:                       0.362\n",
       "Model:                            OLS   Adj. R-squared:                  0.362\n",
       "Method:                 Least Squares   F-statistic:                     4446.\n",
       "Date:                Sat, 15 Oct 2016   Prob (F-statistic):               0.00\n",
       "Time:                        17:25:19   Log-Likelihood:                -20368.\n",
       "No. Observations:                7823   AIC:                         4.074e+04\n",
       "Df Residuals:                    7821   BIC:                         4.075e+04\n",
       "Df Model:                           1                                         \n",
       "Covariance Type:            nonrobust                                         \n",
       "==============================================================================\n",
       "                 coef    std err          t      P>|t|      [95.0% Conf. Int.]\n",
       "------------------------------------------------------------------------------\n",
       "const          7.7685      0.058    134.287      0.000         7.655     7.882\n",
       "target         0.2762      0.004     66.676      0.000         0.268     0.284\n",
       "==============================================================================\n",
       "Omnibus:                      246.213   Durbin-Watson:                   0.719\n",
       "Prob(Omnibus):                  0.000   Jarque-Bera (JB):              267.470\n",
       "Skew:                           0.447   Prob(JB):                     8.31e-59\n",
       "Kurtosis:                       2.859   Cond. No.                         21.9\n",
       "==============================================================================\n",
       "\n",
       "Warnings:\n",
       "[1] Standard Errors assume that the covariance matrix of the errors is correctly specified.\n",
       "\"\"\""
      ]
     },
     "execution_count": 70,
     "metadata": {},
     "output_type": "execute_result"
    },
    {
     "data": {
      "image/png": "[encoded data removed]",
      "text/plain": [
       "<matplotlib.figure.Figure at 0x11d57f890>"
      ]
     },
     "metadata": {},
     "output_type": "display_data"
    }
   ],
   "source": [
    "\n",
    "plt.figure(figsize=(10,8))\n",
    "sns.regplot(test_df.target,y_pred)\n",
    "lr_test = smf.OLS(y_pred, add_constant(test_df.target))\n",
    "lr_test.fit().summary()\n",
    "\n"
   ]
  },
  {
   "cell_type": "markdown",
   "metadata": {
    "collapsed": true
   },
   "source": [
    "### Given that the residual plot trends downward and that I dont have a very high R2, I can try transforming the response variable."
   ]
  },
  {
   "cell_type": "code",
   "execution_count": 211,
   "metadata": {
    "collapsed": false
   },
   "outputs": [
    {
     "name": "stdout",
     "output_type": "stream",
     "text": [
      "NormaltestResult(statistic=1486.1588794356376, pvalue=0.0)\n"
     ]
    },
    {
     "data": {
      "image/png": "[encoded data removed]",
      "text/plain": [
       "<matplotlib.figure.Figure at 0x12cb76410>"
      ]
     },
     "metadata": {},
     "output_type": "display_data"
    }
   ],
   "source": [
    "sns.kdeplot(frame.target)\n",
    "print stats.normaltest(np.array(frame.target), nan_policy= \"omit\")"
   ]
  },
  {
   "cell_type": "code",
   "execution_count": 283,
   "metadata": {
    "collapsed": false
   },
   "outputs": [
    {
     "name": "stdout",
     "output_type": "stream",
     "text": [
      "NormaltestResult(statistic=14.175089865941137, pvalue=0.00083544592564857112)\n",
      "21\n"
     ]
    },
    {
     "data": {
      "image/png": "[encoded data removed]",
      "text/plain": [
       "<matplotlib.figure.Figure at 0x128ddff50>"
      ]
     },
     "metadata": {},
     "output_type": "display_data"
    }
   ],
   "source": [
    "sqrt = np.sqrt(frame.target)\n",
    "sns.kdeplot(sqrt)\n",
    "\n",
    "print stats.normaltest(sqrt, nan_policy= \"omit\")\n",
    "print sum(sqrt.isnull())"
   ]
  },
  {
   "cell_type": "code",
   "execution_count": 267,
   "metadata": {
    "collapsed": false
   },
   "outputs": [
    {
     "name": "stdout",
     "output_type": "stream",
     "text": [
      "NormaltestResult(statistic=5015.8458552392867, pvalue=0.0)\n",
      "21\n"
     ]
    },
    {
     "data": {
      "image/png": "[encoded data removed]",
      "text/plain": [
       "<matplotlib.figure.Figure at 0x12bf46e90>"
      ]
     },
     "metadata": {},
     "output_type": "display_data"
    }
   ],
   "source": [
    "inv_sqrt = 1/np.sqrt(frame.target)\n",
    "sns.kdeplot(inv_sqrt)\n",
    "\n",
    "print stats.normaltest(inv_sqrt, nan_policy= \"omit\")\n",
    "print sum(inv_sqrt.isnull())"
   ]
  },
  {
   "cell_type": "code",
   "execution_count": 271,
   "metadata": {
    "collapsed": false
   },
   "outputs": [
    {
     "name": "stdout",
     "output_type": "stream",
     "text": [
      "NormaltestResult(statistic=271.28992876837242, pvalue=1.2306667583390058e-59)\n",
      "21\n"
     ]
    },
    {
     "data": {
      "image/png": "[encoded data removed]",
      "text/plain": [
       "<matplotlib.figure.Figure at 0x128e8f0d0>"
      ]
     },
     "metadata": {},
     "output_type": "display_data"
    }
   ],
   "source": [
    "log_xform = np.log(frame.target)\n",
    "\n",
    "sns.kdeplot(log_xform)\n",
    "print stats.normaltest(log_xform, nan_policy= \"omit\")\n",
    "print sum(log_xform.isnull())"
   ]
  },
  {
   "cell_type": "code",
   "execution_count": 215,
   "metadata": {
    "collapsed": false
   },
   "outputs": [
    {
     "data": {
      "text/plain": [
       "NormaltestResult(statistic=5281.0999131797253, pvalue=0.0)"
      ]
     },
     "execution_count": 215,
     "metadata": {},
     "output_type": "execute_result"
    },
    {
     "data": {
      "image/png": "[encoded data removed]",
      "text/plain": [
       "<matplotlib.figure.Figure at 0x128e30590>"
      ]
     },
     "metadata": {},
     "output_type": "display_data"
    }
   ],
   "source": [
    "squared = np.array(frame.target)**2\n",
    "sns.kdeplot(squared)\n",
    "\n",
    "stats.normaltest(squared, nan_policy= \"omit\")\n"
   ]
  },
  {
   "cell_type": "code",
   "execution_count": 281,
   "metadata": {
    "collapsed": false
   },
   "outputs": [
    {
     "name": "stdout",
     "output_type": "stream",
     "text": [
      "NormaltestResult(statistic=269.87494039257626, pvalue=2.4969008187899396e-59)\n",
      "0\n"
     ]
    },
    {
     "data": {
      "image/png": "[encoded data removed]",
      "text/plain": [
       "<matplotlib.figure.Figure at 0x11934f110>"
      ]
     },
     "metadata": {},
     "output_type": "display_data"
    }
   ],
   "source": [
    "logshift=np.log(frame.target+2)\n",
    "\n",
    "sns.kdeplot(log_shift)\n",
    "print stats.normaltest(log_shift, nan_policy= \"omit\")\n",
    "print sum(log_shift.isnull())"
   ]
  },
  {
   "cell_type": "markdown",
   "metadata": {},
   "source": [
    "#### Looks like the sqrt transformation works the best so lets try that again to see if the results are better."
   ]
  },
  {
   "cell_type": "code",
   "execution_count": 16,
   "metadata": {
    "collapsed": true
   },
   "outputs": [],
   "source": [
    "trans_y = np.sqrt(y)\n",
    "trans_X = X[~trans_y.isnull()]\n",
    "trans_y.dropna(inplace=1)"
   ]
  },
  {
   "cell_type": "code",
   "execution_count": 17,
   "metadata": {
    "collapsed": false
   },
   "outputs": [],
   "source": [
    "trans_ss = ShuffleSplit(len(trans_X), 5)"
   ]
  },
  {
   "cell_type": "code",
   "execution_count": 293,
   "metadata": {
    "collapsed": false
   },
   "outputs": [
    {
     "name": "stdout",
     "output_type": "stream",
     "text": [
      "0.21851714145\n",
      "0.019842974655\n"
     ]
    }
   ],
   "source": [
    "\n",
    "\n",
    "cv_result =  cross_val_score(et4, trans_X, trans_y, cv = trans_ss, n_jobs=-1)\n",
    "print cv_result.mean()\n",
    "print cv_result.std()"
   ]
  },
  {
   "cell_type": "code",
   "execution_count": 20,
   "metadata": {
    "collapsed": false
   },
   "outputs": [
    {
     "name": "stderr",
     "output_type": "stream",
     "text": [
      "/Users/egorkharakozov/anaconda/lib/python2.7/site-packages/sklearn/linear_model/coordinate_descent.py:466: ConvergenceWarning: Objective did not converge. You might want to increase the number of iterations\n",
      "  ConvergenceWarning)\n"
     ]
    },
    {
     "name": "stdout",
     "output_type": "stream",
     "text": [
      "0.24030770182\n",
      "0.0174748626391\n"
     ]
    }
   ],
   "source": [
    "en3 = ElasticNetCV(selection = \"random\")\n",
    "cv_result =  cross_val_score(en3, trans_X, trans_y, cv = trans_ss)\n",
    "print cv_result.mean()\n",
    "print cv_result.std()"
   ]
  },
  {
   "cell_type": "markdown",
   "metadata": {},
   "source": [
    "   #### try one last thing and use a robust scaler on the response variable to see if it can negate the effect of the outliers which I expect to be a big driver for this data set."
   ]
  },
  {
   "cell_type": "code",
   "execution_count": 54,
   "metadata": {
    "collapsed": false
   },
   "outputs": [],
   "source": [
    "rs = RobustScaler()\n",
    "trans_y2 = rs.fit_transform(y.reshape(-1,1))"
   ]
  },
  {
   "cell_type": "code",
   "execution_count": 55,
   "metadata": {
    "collapsed": false
   },
   "outputs": [
    {
     "data": {
      "text/plain": [
       "(7823, 1520)"
      ]
     },
     "execution_count": 55,
     "metadata": {},
     "output_type": "execute_result"
    }
   ],
   "source": [
    "np.shape(X)"
   ]
  },
  {
   "cell_type": "code",
   "execution_count": 57,
   "metadata": {
    "collapsed": false
   },
   "outputs": [
    {
     "name": "stdout",
     "output_type": "stream",
     "text": [
      "0.215224074777\n",
      "0.0286320008105\n"
     ]
    }
   ],
   "source": [
    "\n",
    "cv_result =  cross_val_score(et4, X, trans_y2.ravel(), cv = ss2, n_jobs=-1)\n",
    "print cv_result.mean()\n",
    "print cv_result.std()"
   ]
  },
  {
   "cell_type": "code",
   "execution_count": 58,
   "metadata": {
    "collapsed": false
   },
   "outputs": [
    {
     "data": {
      "text/plain": [
       "ExtraTreesRegressor(bootstrap=False, criterion='mse', max_depth=7,\n",
       "          max_features='auto', max_leaf_nodes=None, min_samples_leaf=30,\n",
       "          min_samples_split=2, min_weight_fraction_leaf=0.137404197501,\n",
       "          n_estimators=50, n_jobs=-1, oob_score=False, random_state=None,\n",
       "          verbose=0, warm_start=False)"
      ]
     },
     "execution_count": 58,
     "metadata": {},
     "output_type": "execute_result"
    }
   ],
   "source": [
    "et4.fit(X, trans_y2.ravel())"
   ]
  },
  {
   "cell_type": "code",
   "execution_count": 59,
   "metadata": {
    "collapsed": true
   },
   "outputs": [],
   "source": [
    "X_train, X_test, y_train, y_test = train_test_split(X, trans_y2.ravel(), test_size=0.4, random_state = 42)"
   ]
  },
  {
   "cell_type": "code",
   "execution_count": 60,
   "metadata": {
    "collapsed": false
   },
   "outputs": [
    {
     "data": {
      "text/plain": [
       "ExtraTreesRegressor(bootstrap=False, criterion='mse', max_depth=7,\n",
       "          max_features='auto', max_leaf_nodes=None, min_samples_leaf=30,\n",
       "          min_samples_split=2, min_weight_fraction_leaf=0.137404197501,\n",
       "          n_estimators=50, n_jobs=-1, oob_score=False, random_state=None,\n",
       "          verbose=0, warm_start=False)"
      ]
     },
     "execution_count": 60,
     "metadata": {},
     "output_type": "execute_result"
    }
   ],
   "source": [
    "et4.fit(X_train, y_train)"
   ]
  },
  {
   "cell_type": "code",
   "execution_count": 61,
   "metadata": {
    "collapsed": true
   },
   "outputs": [],
   "source": [
    "y_pred = et4.predict(X_test)"
   ]
  },
  {
   "cell_type": "code",
   "execution_count": 62,
   "metadata": {
    "collapsed": false
   },
   "outputs": [
    {
     "data": {
      "text/plain": [
       "0.21841843239299918"
      ]
     },
     "execution_count": 62,
     "metadata": {},
     "output_type": "execute_result"
    }
   ],
   "source": [
    "r2_score(y_test, y_pred)"
   ]
  },
  {
   "cell_type": "markdown",
   "metadata": {},
   "source": [
    "#### For the actual prediction, in the next notebook, I will go with the Etra Tree model with the hyperparameters that I Grid Searched for. At the end of the day, the actual prediction accuracy is not as important as the ordinal ranking by position by week that is generated by the model. \n"
   ]
  },
  {
   "cell_type": "code",
   "execution_count": null,
   "metadata": {
    "collapsed": true
   },
   "outputs": [],
   "source": []
  }
 ],
 "metadata": {
  "anaconda-cloud": {},
  "kernelspec": {
   "display_name": "Python [Root]",
   "language": "python",
   "name": "Python [Root]"
  },
  "language_info": {
   "codemirror_mode": {
    "name": "ipython",
    "version": 2
   },
   "file_extension": ".py",
   "mimetype": "text/x-python",
   "name": "python",
   "nbconvert_exporter": "python",
   "pygments_lexer": "ipython2",
   "version": "2.7.12"
  }
 },
 "nbformat": 4,
 "nbformat_minor": 0
}
